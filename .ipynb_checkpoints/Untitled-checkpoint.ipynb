{
 "cells": [
  {
   "cell_type": "code",
   "execution_count": 2,
   "metadata": {},
   "outputs": [],
   "source": [
    "import urllib3"
   ]
  },
  {
   "cell_type": "code",
   "execution_count": 3,
   "metadata": {},
   "outputs": [],
   "source": [
    "http = urllib3.PoolManager()"
   ]
  },
  {
   "cell_type": "code",
   "execution_count": 4,
   "metadata": {},
   "outputs": [],
   "source": [
    "r = http.request('GET', 'http://export.arxiv.org/api/query?search_query=all:electron&start=0&max_results=1')\n",
    "lines = r.data.decode(\"UTF-8\").split(\"\\n\")"
   ]
  },
  {
   "cell_type": "code",
   "execution_count": 7,
   "metadata": {},
   "outputs": [],
   "source": [
    "from Arxiv import Arxiv_meta"
   ]
  },
  {
   "cell_type": "code",
   "execution_count": 9,
   "metadata": {},
   "outputs": [],
   "source": [
    "import importlib"
   ]
  },
  {
   "cell_type": "code",
   "execution_count": 16,
   "metadata": {
    "scrolled": true
   },
   "outputs": [
    {
     "data": {
      "text/plain": [
       "['<?xml version=\"1.0\" encoding=\"UTF-8\"?>',\n",
       " '<feed xmlns=\"http://www.w3.org/2005/Atom\">',\n",
       " '  <link href=\"http://arxiv.org/api/query?search_query%3Dall%3Aelectron%26id_list%3D%26start%3D0%26max_results%3D1\" rel=\"self\" type=\"application/atom+xml\"/>',\n",
       " '  <title type=\"html\">ArXiv Query: search_query=all:electron&amp;id_list=&amp;start=0&amp;max_results=1</title>',\n",
       " '  <id>http://arxiv.org/api/cHxbiOdZaP56ODnBPIenZhzg5f8</id>',\n",
       " '  <updated>2019-04-08T00:00:00-04:00</updated>',\n",
       " '  <opensearch:totalResults xmlns:opensearch=\"http://a9.com/-/spec/opensearch/1.1/\">143859</opensearch:totalResults>',\n",
       " '  <opensearch:startIndex xmlns:opensearch=\"http://a9.com/-/spec/opensearch/1.1/\">0</opensearch:startIndex>',\n",
       " '  <opensearch:itemsPerPage xmlns:opensearch=\"http://a9.com/-/spec/opensearch/1.1/\">1</opensearch:itemsPerPage>',\n",
       " '  <entry>',\n",
       " '    <id>http://arxiv.org/abs/cond-mat/0102536v1</id>',\n",
       " '    <updated>2001-02-28T20:12:09Z</updated>',\n",
       " '    <published>2001-02-28T20:12:09Z</published>',\n",
       " '    <title>Impact of Electron-Electron Cusp on Configuration Interaction Energies</title>',\n",
       " '    <summary>  The effect of the electron-electron cusp on the convergence of configuration',\n",
       " 'interaction (CI) wave functions is examined. By analogy with the',\n",
       " 'pseudopotential approach for electron-ion interactions, an effective',\n",
       " 'electron-electron interaction is developed which closely reproduces the',\n",
       " 'scattering of the Coulomb interaction but is smooth and finite at zero',\n",
       " 'electron-electron separation. The exact many-electron wave function for this',\n",
       " 'smooth effective interaction has no cusp at zero electron-electron separation.',\n",
       " 'We perform CI and quantum Monte Carlo calculations for He and Be atoms, both',\n",
       " 'with the Coulomb electron-electron interaction and with the smooth effective',\n",
       " 'electron-electron interaction. We find that convergence of the CI expansion of',\n",
       " 'the wave function for the smooth electron-electron interaction is not',\n",
       " 'significantly improved compared with that for the divergent Coulomb interaction',\n",
       " 'for energy differences on the order of 1 mHartree. This shows that, contrary to',\n",
       " 'popular belief, description of the electron-electron cusp is not a limiting',\n",
       " 'factor, to within chemical accuracy, for CI calculations.',\n",
       " '</summary>',\n",
       " '    <author>',\n",
       " '      <name>David Prendergast</name>',\n",
       " '      <arxiv:affiliation xmlns:arxiv=\"http://arxiv.org/schemas/atom\">Department of Physics</arxiv:affiliation>',\n",
       " '    </author>',\n",
       " '    <author>',\n",
       " '      <name>M. Nolan</name>',\n",
       " '      <arxiv:affiliation xmlns:arxiv=\"http://arxiv.org/schemas/atom\">NMRC, University College, Cork, Ireland</arxiv:affiliation>',\n",
       " '    </author>',\n",
       " '    <author>',\n",
       " '      <name>Claudia Filippi</name>',\n",
       " '      <arxiv:affiliation xmlns:arxiv=\"http://arxiv.org/schemas/atom\">Department of Physics</arxiv:affiliation>',\n",
       " '    </author>',\n",
       " '    <author>',\n",
       " '      <name>Stephen Fahy</name>',\n",
       " '      <arxiv:affiliation xmlns:arxiv=\"http://arxiv.org/schemas/atom\">Department of Physics</arxiv:affiliation>',\n",
       " '    </author>',\n",
       " '    <author>',\n",
       " '      <name>J. C. Greer</name>',\n",
       " '      <arxiv:affiliation xmlns:arxiv=\"http://arxiv.org/schemas/atom\">NMRC, University College, Cork, Ireland</arxiv:affiliation>',\n",
       " '    </author>',\n",
       " '    <arxiv:doi xmlns:arxiv=\"http://arxiv.org/schemas/atom\">10.1063/1.1383585</arxiv:doi>',\n",
       " '    <link title=\"doi\" href=\"http://dx.doi.org/10.1063/1.1383585\" rel=\"related\"/>',\n",
       " '    <arxiv:comment xmlns:arxiv=\"http://arxiv.org/schemas/atom\">11 pages, 6 figures, 3 tables, LaTeX209, submitted to The Journal of',\n",
       " '  Chemical Physics</arxiv:comment>',\n",
       " '    <arxiv:journal_ref xmlns:arxiv=\"http://arxiv.org/schemas/atom\">J. Chem. Phys. 115, 1626 (2001)</arxiv:journal_ref>',\n",
       " '    <link href=\"http://arxiv.org/abs/cond-mat/0102536v1\" rel=\"alternate\" type=\"text/html\"/>',\n",
       " '    <link title=\"pdf\" href=\"http://arxiv.org/pdf/cond-mat/0102536v1\" rel=\"related\" type=\"application/pdf\"/>',\n",
       " '    <arxiv:primary_category xmlns:arxiv=\"http://arxiv.org/schemas/atom\" term=\"cond-mat.str-el\" scheme=\"http://arxiv.org/schemas/atom\"/>',\n",
       " '    <category term=\"cond-mat.str-el\" scheme=\"http://arxiv.org/schemas/atom\"/>',\n",
       " '  </entry>',\n",
       " '</feed>',\n",
       " '']"
      ]
     },
     "execution_count": 16,
     "metadata": {},
     "output_type": "execute_result"
    }
   ],
   "source": [
    "lines"
   ]
  },
  {
   "cell_type": "code",
   "execution_count": 19,
   "metadata": {},
   "outputs": [],
   "source": [
    "def arxiv_query_by_id(id):\n",
    "    r = http.request(\"GET\", \"http://export.arxiv.org/api/query?id_list={}\".format(id))\n",
    "    return r.data"
   ]
  },
  {
   "cell_type": "code",
   "execution_count": 20,
   "metadata": {},
   "outputs": [],
   "source": [
    "lines = arxiv_query_by_id(1903.00003)"
   ]
  },
  {
   "cell_type": "code",
   "execution_count": 21,
   "metadata": {
    "scrolled": true
   },
   "outputs": [
    {
     "data": {
      "text/plain": [
       "['<?xml version=\"1.0\" encoding=\"UTF-8\"?>',\n",
       " '<feed xmlns=\"http://www.w3.org/2005/Atom\">',\n",
       " '  <link href=\"http://arxiv.org/api/query?search_query%3D%26id_list%3D1903.00003%26start%3D0%26max_results%3D10\" rel=\"self\" type=\"application/atom+xml\"/>',\n",
       " '  <title type=\"html\">ArXiv Query: search_query=&amp;id_list=1903.00003&amp;start=0&amp;max_results=10</title>',\n",
       " '  <id>http://arxiv.org/api/Z8pf4W+MNTprjg1bQb7SS9NwkBE</id>',\n",
       " '  <updated>2019-04-08T00:00:00-04:00</updated>',\n",
       " '  <opensearch:totalResults xmlns:opensearch=\"http://a9.com/-/spec/opensearch/1.1/\">1</opensearch:totalResults>',\n",
       " '  <opensearch:startIndex xmlns:opensearch=\"http://a9.com/-/spec/opensearch/1.1/\">0</opensearch:startIndex>',\n",
       " '  <opensearch:itemsPerPage xmlns:opensearch=\"http://a9.com/-/spec/opensearch/1.1/\">10</opensearch:itemsPerPage>',\n",
       " '  <entry>',\n",
       " '    <id>http://arxiv.org/abs/1903.00003v1</id>',\n",
       " '    <updated>2019-02-28T19:00:00Z</updated>',\n",
       " '    <published>2019-02-28T19:00:00Z</published>',\n",
       " '    <title>Evident black hole-bulge coevolution in the distant universe</title>',\n",
       " '    <summary>  Observations in the local universe show a tight correlation between the',\n",
       " 'masses of supermassive black holes (SMBHs; $M_{\\\\rm BH}$) and host-galaxy bulges',\n",
       " '($M_{\\\\rm bulge}$), suggesting a strong connection between SMBH and bulge',\n",
       " 'growth. However, direct evidence for such a connection in the distant universe',\n",
       " 'remains elusive. We have studied sample-averaged SMBH accretion rate',\n",
       " '($\\\\overline{\\\\rm BHAR}$) for bulge-dominated galaxies at $z=0.5-3$. While',\n",
       " 'previous observations found $\\\\overline{\\\\rm BHAR}$ is strongly related to',\n",
       " 'host-galaxy stellar mass ($M_\\\\star$) for the overall galaxy population, our',\n",
       " 'analyses show that, for the bulge-dominated population, $\\\\overline{\\\\rm BHAR}$',\n",
       " 'is mainly related to SFR rather than $M_\\\\star$. This ${\\\\overline{\\\\rm',\n",
       " 'BHAR}}$-SFR relation is highly significant, e.g. $9.0\\\\sigma$ (Pearson',\n",
       " 'statistic) at $z=0.5-1.5$. Such a $\\\\overline{\\\\rm BHAR}$-SFR connection does not',\n",
       " 'exist among our comparison sample of galaxies that are not bulge-dominated, for',\n",
       " 'which $M_\\\\star$ appears to be the main determinant of SMBH accretion. This',\n",
       " 'difference between the bulge-dominated and comparison samples indicates that',\n",
       " 'SMBHs only coevolve with bulges rather than the entire galaxies, explaining the',\n",
       " 'tightness of the local $M_{\\\\rm BH}$-$M_{\\\\rm bulge}$ correlation. Our best-fit',\n",
       " '$\\\\overline{\\\\rm BHAR}$-SFR relation for the bulge-dominated sample is',\n",
       " '$\\\\log\\\\overline{\\\\rm BHAR} = \\\\log\\\\mathrm{SFR} - (2.48\\\\pm0.05)$ (solar units). The',\n",
       " 'best-fit $\\\\overline{\\\\rm BHAR}/\\\\mathrm{SFR}$ ratio ($10^{-2.48}$) for',\n",
       " 'bulge-dominated galaxies is similar to the observed $M_{\\\\rm BH}/M_{\\\\rm bulge}$',\n",
       " 'values in the local universe. Our results reveal that SMBH and bulge growth are',\n",
       " 'in lockstep, and thus non-causal scenarios of merger averaging are unlikely the',\n",
       " 'origin of the $M_{\\\\rm BH}$-$M_{\\\\rm bulge}$ correlation. This lockstep growth',\n",
       " 'also predicts that the $M_{\\\\rm BH}$-$M_{\\\\rm bulge}$ relation should not have',\n",
       " 'strong redshift dependence.',\n",
       " '</summary>',\n",
       " '    <author>',\n",
       " '      <name>Guang Yang</name>',\n",
       " '    </author>',\n",
       " '    <author>',\n",
       " '      <name>W. N. Brandt</name>',\n",
       " '    </author>',\n",
       " '    <author>',\n",
       " '      <name>D. M. Alexander</name>',\n",
       " '    </author>',\n",
       " '    <author>',\n",
       " '      <name>C. -T. J. Chen</name>',\n",
       " '    </author>',\n",
       " '    <author>',\n",
       " '      <name>Q. Ni</name>',\n",
       " '    </author>',\n",
       " '    <author>',\n",
       " '      <name>F. Vito</name>',\n",
       " '    </author>',\n",
       " '    <author>',\n",
       " '      <name>F. -F. Zhu</name>',\n",
       " '    </author>',\n",
       " '    <arxiv:doi xmlns:arxiv=\"http://arxiv.org/schemas/atom\">10.1093/mnras/stz611</arxiv:doi>',\n",
       " '    <link title=\"doi\" href=\"http://dx.doi.org/10.1093/mnras/stz611\" rel=\"related\"/>',\n",
       " '    <arxiv:comment xmlns:arxiv=\"http://arxiv.org/schemas/atom\">18 Pages, 11 figures, 4 tables; MNRAS accepted</arxiv:comment>',\n",
       " '    <link href=\"http://arxiv.org/abs/1903.00003v1\" rel=\"alternate\" type=\"text/html\"/>',\n",
       " '    <link title=\"pdf\" href=\"http://arxiv.org/pdf/1903.00003v1\" rel=\"related\" type=\"application/pdf\"/>',\n",
       " '    <arxiv:primary_category xmlns:arxiv=\"http://arxiv.org/schemas/atom\" term=\"astro-ph.GA\" scheme=\"http://arxiv.org/schemas/atom\"/>',\n",
       " '    <category term=\"astro-ph.GA\" scheme=\"http://arxiv.org/schemas/atom\"/>',\n",
       " '    <category term=\"astro-ph.HE\" scheme=\"http://arxiv.org/schemas/atom\"/>',\n",
       " '  </entry>',\n",
       " '</feed>',\n",
       " '']"
      ]
     },
     "execution_count": 21,
     "metadata": {},
     "output_type": "execute_result"
    }
   ],
   "source": [
    "lines"
   ]
  },
  {
   "cell_type": "code",
   "execution_count": 23,
   "metadata": {},
   "outputs": [],
   "source": [
    "\"\"\"\n",
    "summary is multi-line. \n",
    "One author comprises multiple sub-entries (name/affiliation, and more?),\n",
    "and there may be multiple authors.\n",
    "\n",
    "\"\"\"\n",
    "\n",
    "\n",
    "arx = Arxiv_meta()\n",
    "\n",
    "def parse_arxiv(arx, qresult):\n",
    "    lines = qresult.decode(\"UTF-8\").split(\"\\n\")\n",
    "    entry=False\n",
    "    _ibeg_summary=None\n",
    "    _iend_summary=None\n",
    "    read_author=False\n",
    "    for i, ll in enumerate(lines):\n",
    "        if \"</entry>\" in ll:\n",
    "            break\n",
    "        if \"<entry>\" in ll:\n",
    "            entry=True\n",
    "        if entry:\n",
    "            if arx.id is None and \"<id>\" in ll:\n",
    "                arx.id=get_sentence(ll, \"id\").split(\"/\")[-1]\n",
    "            if arx.updated is None and \"<updated>\" in ll:\n",
    "                arx.updated = get_sentence(ll, \"updated\")\n",
    "            if arx.published is None and \"<published>\" in ll:\n",
    "                arx.published = get_sentence(ll, \"published\")\n",
    "            if arx.title is None and \"<title>\" in ll:\n",
    "                arx.title = get_sentence(ll, \"title\")\n",
    "            if _ibeg_summary is None and \"<summary>\" in ll:\n",
    "                _ibeg_summary = i\n",
    "            if _iend_summary is None and \"</summary>\" in ll:\n",
    "                _iend_summary = i\n",
    "            if read_author:\n",
    "                arx.authors.append(get_sentence(ll, \"name\"))\n",
    "                read_author=False\n",
    "            if not read_author and \"<author>\" in ll:\n",
    "                read_author = True\n",
    "\n",
    "    arx.summary = \"\".join(lines[_ibeg_summary:_iend_summary]).split(\"<summary>\")[1]\n",
    "    "
   ]
  },
  {
   "cell_type": "code",
   "execution_count": 24,
   "metadata": {},
   "outputs": [],
   "source": [
    "parse_arxiv(arx, arxiv_query_by_id(1903.00003))"
   ]
  },
  {
   "cell_type": "code",
   "execution_count": null,
   "metadata": {},
   "outputs": [],
   "source": []
  },
  {
   "cell_type": "code",
   "execution_count": 22,
   "metadata": {},
   "outputs": [
    {
     "data": {
      "text/plain": [
       "['David Prendergast',\n",
       " 'M. Nolan',\n",
       " 'Claudia Filippi',\n",
       " 'Stephen Fahy',\n",
       " 'J. C. Greer']"
      ]
     },
     "execution_count": 22,
     "metadata": {},
     "output_type": "execute_result"
    }
   ],
   "source": [
    "arx.authors"
   ]
  },
  {
   "cell_type": "code",
   "execution_count": 9,
   "metadata": {},
   "outputs": [],
   "source": [
    "def get_sentence(ll, tag):\n",
    "    return ll.split(\"</{}>\".format(tag))[-2].split(\"<{}>\".format(tag))[-1]"
   ]
  },
  {
   "cell_type": "code",
   "execution_count": 18,
   "metadata": {},
   "outputs": [
    {
     "data": {
      "text/plain": [
       "'  The effect of the electron-electron cusp on the convergence of configurationinteraction (CI) wave functions is examined. By analogy with thepseudopotential approach for electron-ion interactions, an effectiveelectron-electron interaction is developed which closely reproduces thescattering of the Coulomb interaction but is smooth and finite at zeroelectron-electron separation. The exact many-electron wave function for thissmooth effective interaction has no cusp at zero electron-electron separation.We perform CI and quantum Monte Carlo calculations for He and Be atoms, bothwith the Coulomb electron-electron interaction and with the smooth effectiveelectron-electron interaction. We find that convergence of the CI expansion ofthe wave function for the smooth electron-electron interaction is notsignificantly improved compared with that for the divergent Coulomb interactionfor energy differences on the order of 1 mHartree. This shows that, contrary topopular belief, description of the electron-electron cusp is not a limitingfactor, to within chemical accuracy, for CI calculations.'"
      ]
     },
     "execution_count": 18,
     "metadata": {},
     "output_type": "execute_result"
    }
   ],
   "source": [
    "arx.summary"
   ]
  },
  {
   "cell_type": "code",
   "execution_count": null,
   "metadata": {},
   "outputs": [],
   "source": []
  }
 ],
 "metadata": {
  "kernelspec": {
   "display_name": "Python 3",
   "language": "python",
   "name": "python3"
  },
  "language_info": {
   "codemirror_mode": {
    "name": "ipython",
    "version": 3
   },
   "file_extension": ".py",
   "mimetype": "text/x-python",
   "name": "python",
   "nbconvert_exporter": "python",
   "pygments_lexer": "ipython3",
   "version": "3.7.1"
  }
 },
 "nbformat": 4,
 "nbformat_minor": 2
}
