{
 "cells": [
  {
   "cell_type": "code",
   "execution_count": 3,
   "metadata": {},
   "outputs": [],
   "source": [
    "import sys\n",
    "import biblib\n",
    "import json\n",
    "import requests\n",
    "import lxml\n",
    "import pybtex\n",
    "from lxml import etree\n",
    "\n",
    "User = \"Hoseung\"\n",
    "token = \"N1HMvy4RRkGn2wRZ4iJsoxj9wGbTPTfqRXKSX0Dd\""
   ]
  },
  {
   "cell_type": "code",
   "execution_count": 39,
   "metadata": {},
   "outputs": [],
   "source": [
    "wdir = \"./mylibrary/\"\n",
    "User, token = open(wdir+\".token\", \"r\").readlines()\n",
    "User = User.strip()\n",
    "token = token.strip()"
   ]
  },
  {
   "cell_type": "code",
   "execution_count": 4,
   "metadata": {},
   "outputs": [],
   "source": [
    "import mylibrary"
   ]
  },
  {
   "cell_type": "markdown",
   "metadata": {},
   "source": [
    "There are two logics in arxiv API, search_query and id_list."
   ]
  },
  {
   "cell_type": "code",
   "execution_count": 37,
   "metadata": {},
   "outputs": [],
   "source": [
    "search_results = requests.get(\"http://export.arxiv.org/api/query?\"+\n",
    "                              \"search_query=cat:astro-ph.GA\"+\n",
    "                              \"&start=0&max_results=10\"+\n",
    "                              \"&sortBy=submittedDate&sortOrder=descending\")"
   ]
  },
  {
   "cell_type": "code",
   "execution_count": 38,
   "metadata": {},
   "outputs": [],
   "source": [
    "alldata=[]\n",
    "\n",
    "root = etree.fromstring(search_results.content)\n",
    "for entry in root.findall(\"{http://www.w3.org/2005/Atom}entry\"):\n",
    "    self = mylibrary.Arxiv.Arxiv_meta()\n",
    "\n",
    "    for element in entry:\n",
    "        name = element.tag.split(\"}\")[-1]\n",
    "        if name == \"author\":\n",
    "            for Echild in element.getchildren():\n",
    "                self.meta[name].append(Echild.text)            \n",
    "        else:\n",
    "            try:\n",
    "                if isinstance(self.meta[name], list):\n",
    "                    try:\n",
    "                        self.meta[name].append(element.attrib[\"term\"])\n",
    "                    except:\n",
    "                        self.meta[name].append(element.text)\n",
    "                else:\n",
    "                    try:\n",
    "                        self.meta[name] = element.attrib[\"term\"]\n",
    "                    except:\n",
    "                        self.meta[name] = element.text\n",
    "            except:\n",
    "                continue\n",
    "                \n",
    "    alldata.append(self)"
   ]
  },
  {
   "cell_type": "code",
   "execution_count": 39,
   "metadata": {},
   "outputs": [
    {
     "name": "stdout",
     "output_type": "stream",
     "text": [
      "Buried Black Hole Growth in IR-selected Mergers: New Results from\n",
      "  Chandra 2019-04-24T17:59:57Z\n",
      "Studying star-forming processes towards G29.862-0.044 2019-04-24T16:45:02Z\n",
      "Spectral Variability of a Sample of Extreme Variability Quasars and\n",
      "  Implications for the MgII Broad-line Region 2019-04-24T16:40:05Z\n",
      "Sulfur Chemistry in L1157-B1 2019-04-24T16:05:14Z\n",
      "Globular cluster candidates in the Galactic bulge: Gaia and VVV view of\n",
      "  the latest discoveries 2019-04-24T15:28:05Z\n",
      "SDSS-IV/SPIDERS: A Catalogue of X-Ray Selected AGN Properties; Spectral\n",
      "  Properties and Black Hole Mass Estimates for SPIDERS SDSS DR14 Type 1 AGN 2019-04-24T13:03:22Z\n",
      "How do scalar-field dark matter haloes react to orbiting bodies? 2019-04-24T12:50:07Z\n",
      "Analysis and test of the central-blue-spot infall hallmark 2019-04-24T10:53:26Z\n",
      "Confronting expansion distances of planetary nebulae with Gaia DR2\n",
      "  measurements 2019-04-24T10:00:51Z\n",
      "Self-consistent band calculation of slab phase in neutron-star crust 2019-04-24T09:31:23Z\n"
     ]
    }
   ],
   "source": [
    "for ad in alldata:\n",
    "    print(ad.meta[\"title\"], ad.meta[\"published\"])"
   ]
  },
  {
   "cell_type": "code",
   "execution_count": null,
   "metadata": {},
   "outputs": [],
   "source": []
  },
  {
   "cell_type": "code",
   "execution_count": null,
   "metadata": {},
   "outputs": [],
   "source": [
    "requests.get(\"http://export.arxiv.org/api/query?id_list={}\".format(\\\n",
    "            self.meta[\"id\"])).content"
   ]
  },
  {
   "cell_type": "code",
   "execution_count": null,
   "metadata": {},
   "outputs": [],
   "source": []
  },
  {
   "cell_type": "code",
   "execution_count": null,
   "metadata": {},
   "outputs": [],
   "source": []
  },
  {
   "cell_type": "code",
   "execution_count": null,
   "metadata": {},
   "outputs": [],
   "source": []
  },
  {
   "cell_type": "code",
   "execution_count": 11,
   "metadata": {},
   "outputs": [],
   "source": [
    "rr = requests.post(\"https://ui.adsabs.harvard.edu/#abs/arXiv:{}\".format(arx_id))"
   ]
  },
  {
   "cell_type": "code",
   "execution_count": 10,
   "metadata": {},
   "outputs": [
    {
     "data": {
      "text/plain": [
       "'<!doctype html><html lang=\"en\"><head profile=\"http://a9.com/-/spec/opensearch/1.1/\"><meta charset=\"utf-8\"><base href=\"/\"><meta http-equiv=\"X-UA-Compatible\" content=\"IE=edge,chrome=1\"><meta name=\"viewport\" content=\"width=device-width,initial-scale=1\"><meta name=\"google-site-verification\" content=\"XxQuw38lagr8-TgtCyhAMP_6ELS9dy35fgrqo9dxw3o\"><title>NASA/ADS</title><meta name=\"description\" content=\"A powerful, streamlined new Astrophysics Data System\"><link rel=\"preload\" href=\"./styles/css/styles.css\" as=\"style\"><link rel=\"preload\" href=\"./libs/requirejs/require.js\" as=\"script\"><link rel=\"preload\" href=\"./shim.js\" as=\"script\"><link rel=\"stylesheet\" href=\"./styles/css/styles.css\"><link rel=\"icon\" type=\"image/png\" sizes=\"32x32\" href=\"./styles/img/favicon.ico\"><link rel=\"search\" type=\"application/opensearchdescription+xml\" href=\"https://ui.adsabs.harvard.edu/opensearch.xml\" title=\"ADS Search\"><noscript><style>#app-container {\\n        display: none;\\n      }\\n      body {\\n        overflow: hidden;\\n        position: absolute;\\n        width: 100%;\\n        height: 100%;\\n        display: flex;\\n        justify-content: center;\\n        align-items: center;\\n      }\\n      #noscriptmsg {\\n        max-width: 450px;\\n        padding: 10px;\\n      }</style></noscript></head><body><noscript><div id=\"noscriptmsg\"><div class=\"h3\">JavaScript Required</div><hr class=\"hr\"><p>Sorry, but ADS requires JavaScript to be enabled to have the best experience. If you cannot enable JavaScript, please use our classic site.</p><p class=\"pull-right\"><a href=\"//ui.adsabs.harvard.edu\" class=\"btn btn-info\">Reload</a> <a href=\"http://adsabs.harvard.edu/abstract_service.html\" class=\"btn btn-primary\">Go to Classic</a></p></div></noscript><div id=\"app-container\"><div id=\"body-template-container\"><div class=\"loading-screen\" style=\"display: none\"><div class=\"row\"><div class=\"col-xs-8 col-xs-offset-2\"><div class=\"logo__astrophysics\">astrophysics</div><div class=\"logo__data-system\">data system</div></div></div><div class=\"row\"><div class=\"col-xs-6 col-xs-offset-3\"><span class=\"sr-only\">loading...</span><div class=\"progress\"><div class=\"progress-bar\" role=\"progressbar\" id=\"app_loading_progress\" aria-valuenow=\"0\" aria-valuemin=\"0\" aria-valuemax=\"100\" style=\"width: 0%\"><div class=\"sr-only\">0% Complete</div></div></div><span class=\"loading-screen__loading\" id=\"app_loading_message\"></span></div></div></div></div></div><script type=\"application/ld+json\">{{{this}}}</script><script>// define waitSeconds above require script tag\\n        // to override the default, until main.js loads\\n        //see https://github.com/yeoman/yeoman/issues/1051\\n        window.require = {\\n            waitSeconds: 30\\n        };\\n\\n        // Progress Bar\\n        (function () {\\n          var loadingContainer = document.querySelector(\\'.loading-screen\\');\\n          var progressBar = document.getElementById(\\'app_loading_progress\\');\\n          var message = document.getElementById(\\'app_loading_message\\');\\n          var progressInner = document.querySelector(\\'#app_loading_progress>div\\');\\n          var progressValue = 0;\\n\\n          // show nothing for the first 3 seconds\\n          setTimeout(function () {\\n            loadingContainer.setAttribute(\\'style\\', \\'\\');\\n          }, 3000);\\n\\n          window.__setAppLoadingProgress = function (val, msg) {\\n            if (val < progressValue) return;\\n            try {\\n              progressBar.setAttribute(\\'aria-valuenow\\', val);\\n              progressBar.style = \\'width: \\' + val + \\'%\\';\\n              progressInner.innerText = val + \\'% Complete\\';\\n              message.innerHTML = msg ? msg : message.innerHTML;\\n              progressValue = val;\\n            } catch (e) {\\n              // do nothing\\n            }\\n          };\\n          setTimeout(__setAppLoadingProgress, 200, 10);\\n          setTimeout(__setAppLoadingProgress, 500, 15);\\n          window.__setAppLoadingProgress(5, \\'Downloading Assets\\');\\n          window.__PAGE_LOAD_TIMESTAMP = new Date();\\n\\n          // Show a reload button if the page is taking too long\\n          setTimeout(function check () {\\n            if (progressValue !== 100) {\\n              var msg = \\'Loading the application is taking a long time... \\';\\n              msg += \\'<button role=\"button\" onclick=\"location.reload()\" class=\"btn btn-default\">Reload</button>\\';\\n              window.__setAppLoadingProgress(progressValue, msg);\\n            } else {\\n              setTimeout(check, 10000);\\n            }\\n          }, 10000);\\n        })();</script><script src=\"./libs/requirejs/require.js\"></script><script>APP_VERSION=\\'\\';</script><script src=\"./shim.js\"></script></body></html>'"
      ]
     },
     "execution_count": 10,
     "metadata": {},
     "output_type": "execute_result"
    }
   ],
   "source": [
    "rr.text"
   ]
  },
  {
   "cell_type": "code",
   "execution_count": 4,
   "metadata": {},
   "outputs": [],
   "source": [
    "arx = mylibrary.Arxiv.Arxiv_meta()\n",
    "arx_id = \"1903.00003\"\n",
    "arx.query_by_id(id=arx_id)"
   ]
  },
  {
   "cell_type": "code",
   "execution_count": 5,
   "metadata": {},
   "outputs": [],
   "source": [
    "search_query = {\"arXiv\":[arx_id]}\n",
    "#search_query = {\"bibcode\":[\"2015RaSc...50..916A\"]}\n",
    "\n",
    "rr = requests.post(\"https://api.adsabs.harvard.edu/v1/export/bibtex\", \\\n",
    "                 headers={\"Authorization\": \"{} {}\".format(User,token), \\\n",
    "                  \"Content-type\": \"application/json\"}, \n",
    "                 data=json.dumps(search_query)).json"
   ]
  },
  {
   "cell_type": "code",
   "execution_count": 14,
   "metadata": {},
   "outputs": [
    {
     "data": {
      "text/plain": [
       "{'title': 'Evident black hole-bulge coevolution in the distant universe',\n",
       " 'published': '2019-02-28T19:00:00Z',\n",
       " 'updated': '2019-02-28T19:00:00Z',\n",
       " 'author': ['Guang Yang',\n",
       "  'W. N. Brandt',\n",
       "  'D. M. Alexander',\n",
       "  'C. -T. J. Chen',\n",
       "  'Q. Ni',\n",
       "  'F. Vito',\n",
       "  'F. -F. Zhu'],\n",
       " 'primary_category': 'astro-ph.GA',\n",
       " 'category': ['astro-ph.GA', 'astro-ph.HE'],\n",
       " 'summary': '  Observations in the local universe show a tight correlation between the\\nmasses of supermassive black holes (SMBHs; $M_{\\\\rm BH}$) and host-galaxy bulges\\n($M_{\\\\rm bulge}$), suggesting a strong connection between SMBH and bulge\\ngrowth. However, direct evidence for such a connection in the distant universe\\nremains elusive. We have studied sample-averaged SMBH accretion rate\\n($\\\\overline{\\\\rm BHAR}$) for bulge-dominated galaxies at $z=0.5-3$. While\\nprevious observations found $\\\\overline{\\\\rm BHAR}$ is strongly related to\\nhost-galaxy stellar mass ($M_\\\\star$) for the overall galaxy population, our\\nanalyses show that, for the bulge-dominated population, $\\\\overline{\\\\rm BHAR}$\\nis mainly related to SFR rather than $M_\\\\star$. This ${\\\\overline{\\\\rm\\nBHAR}}$-SFR relation is highly significant, e.g. $9.0\\\\sigma$ (Pearson\\nstatistic) at $z=0.5-1.5$. Such a $\\\\overline{\\\\rm BHAR}$-SFR connection does not\\nexist among our comparison sample of galaxies that are not bulge-dominated, for\\nwhich $M_\\\\star$ appears to be the main determinant of SMBH accretion. This\\ndifference between the bulge-dominated and comparison samples indicates that\\nSMBHs only coevolve with bulges rather than the entire galaxies, explaining the\\ntightness of the local $M_{\\\\rm BH}$-$M_{\\\\rm bulge}$ correlation. Our best-fit\\n$\\\\overline{\\\\rm BHAR}$-SFR relation for the bulge-dominated sample is\\n$\\\\log\\\\overline{\\\\rm BHAR} = \\\\log\\\\mathrm{SFR} - (2.48\\\\pm0.05)$ (solar units). The\\nbest-fit $\\\\overline{\\\\rm BHAR}/\\\\mathrm{SFR}$ ratio ($10^{-2.48}$) for\\nbulge-dominated galaxies is similar to the observed $M_{\\\\rm BH}/M_{\\\\rm bulge}$\\nvalues in the local universe. Our results reveal that SMBH and bulge growth are\\nin lockstep, and thus non-causal scenarios of merger averaging are unlikely the\\norigin of the $M_{\\\\rm BH}$-$M_{\\\\rm bulge}$ correlation. This lockstep growth\\nalso predicts that the $M_{\\\\rm BH}$-$M_{\\\\rm bulge}$ relation should not have\\nstrong redshift dependence.\\n',\n",
       " 'doi': '10.1093/mnras/stz611',\n",
       " 'id': 'http://arxiv.org/abs/1903.00003v1',\n",
       " 'journal_ref': None}"
      ]
     },
     "execution_count": 14,
     "metadata": {},
     "output_type": "execute_result"
    }
   ],
   "source": [
    "arx.meta"
   ]
  },
  {
   "cell_type": "code",
   "execution_count": 5,
   "metadata": {},
   "outputs": [
    {
     "ename": "TypeError",
     "evalue": "'method' object is not subscriptable",
     "output_type": "error",
     "traceback": [
      "\u001b[0;31m---------------------------------------------------------------------------\u001b[0m",
      "\u001b[0;31mTypeError\u001b[0m                                 Traceback (most recent call last)",
      "\u001b[0;32m<ipython-input-5-2b94a55dd5e1>\u001b[0m in \u001b[0;36m<module>\u001b[0;34m\u001b[0m\n\u001b[1;32m      1\u001b[0m \u001b[0;32mimport\u001b[0m \u001b[0mmylibrary\u001b[0m\u001b[0;34m\u001b[0m\u001b[0;34m\u001b[0m\u001b[0m\n\u001b[0;32m----> 2\u001b[0;31m \u001b[0mads\u001b[0m \u001b[0;34m=\u001b[0m \u001b[0mmylibrary\u001b[0m\u001b[0;34m.\u001b[0m\u001b[0mADS\u001b[0m\u001b[0;34m.\u001b[0m\u001b[0mADS\u001b[0m\u001b[0;34m(\u001b[0m\u001b[0mbibcode\u001b[0m\u001b[0;34m=\u001b[0m\u001b[0;34m\"2003ApJS..148..175S\"\u001b[0m\u001b[0;34m)\u001b[0m\u001b[0;31m#, arx_id=arx_id)\u001b[0m\u001b[0;34m\u001b[0m\u001b[0;34m\u001b[0m\u001b[0m\n\u001b[0m",
      "\u001b[0;32m~/coding/MyLibrary/mylibrary/ADS.py\u001b[0m in \u001b[0;36m__init__\u001b[0;34m(self, bibcode, arx_id)\u001b[0m\n\u001b[1;32m    123\u001b[0m             \u001b[0mr\u001b[0m \u001b[0;34m=\u001b[0m \u001b[0mself\u001b[0m\u001b[0;34m.\u001b[0m\u001b[0m_ref_by_arxiv_id\u001b[0m\u001b[0;34m(\u001b[0m\u001b[0;34m)\u001b[0m\u001b[0;34m\u001b[0m\u001b[0;34m\u001b[0m\u001b[0m\n\u001b[1;32m    124\u001b[0m \u001b[0;34m\u001b[0m\u001b[0m\n\u001b[0;32m--> 125\u001b[0;31m         \u001b[0mself\u001b[0m\u001b[0;34m.\u001b[0m\u001b[0mparse_bibtex\u001b[0m\u001b[0;34m(\u001b[0m\u001b[0mr\u001b[0m\u001b[0;34m)\u001b[0m\u001b[0;34m\u001b[0m\u001b[0;34m\u001b[0m\u001b[0m\n\u001b[0m\u001b[1;32m    126\u001b[0m \u001b[0;34m\u001b[0m\u001b[0m\n\u001b[1;32m    127\u001b[0m     \u001b[0;32mdef\u001b[0m \u001b[0m_generate_bibcode\u001b[0m\u001b[0;34m(\u001b[0m\u001b[0mself\u001b[0m\u001b[0;34m)\u001b[0m\u001b[0;34m:\u001b[0m\u001b[0;34m\u001b[0m\u001b[0;34m\u001b[0m\u001b[0m\n",
      "\u001b[0;32m~/coding/MyLibrary/mylibrary/ADS.py\u001b[0m in \u001b[0;36mparse_bibtex\u001b[0;34m(self, json_bib)\u001b[0m\n\u001b[1;32m    178\u001b[0m     \u001b[0;32mdef\u001b[0m \u001b[0mparse_bibtex\u001b[0m\u001b[0;34m(\u001b[0m\u001b[0mself\u001b[0m\u001b[0;34m,\u001b[0m \u001b[0mjson_bib\u001b[0m\u001b[0;34m)\u001b[0m\u001b[0;34m:\u001b[0m\u001b[0;34m\u001b[0m\u001b[0;34m\u001b[0m\u001b[0m\n\u001b[1;32m    179\u001b[0m         \u001b[0mparser\u001b[0m \u001b[0;34m=\u001b[0m \u001b[0metree\u001b[0m\u001b[0;34m.\u001b[0m\u001b[0mXMLParser\u001b[0m\u001b[0;34m(\u001b[0m\u001b[0mns_clean\u001b[0m\u001b[0;34m=\u001b[0m\u001b[0;32mTrue\u001b[0m\u001b[0;34m,\u001b[0m \u001b[0mrecover\u001b[0m\u001b[0;34m=\u001b[0m\u001b[0;32mTrue\u001b[0m\u001b[0;34m,\u001b[0m \u001b[0mencoding\u001b[0m\u001b[0;34m=\u001b[0m\u001b[0;34m'utf-8'\u001b[0m\u001b[0;34m)\u001b[0m\u001b[0;34m\u001b[0m\u001b[0;34m\u001b[0m\u001b[0m\n\u001b[0;32m--> 180\u001b[0;31m         \u001b[0mroot\u001b[0m \u001b[0;34m=\u001b[0m \u001b[0metree\u001b[0m\u001b[0;34m.\u001b[0m\u001b[0mfromstring\u001b[0m\u001b[0;34m(\u001b[0m\u001b[0mjson_bib\u001b[0m\u001b[0;34m[\u001b[0m\u001b[0;34m\"export\"\u001b[0m\u001b[0;34m]\u001b[0m\u001b[0;34m.\u001b[0m\u001b[0mencode\u001b[0m\u001b[0;34m(\u001b[0m\u001b[0;34m\"utf-8\"\u001b[0m\u001b[0;34m)\u001b[0m\u001b[0;34m,\u001b[0m \u001b[0mparser\u001b[0m\u001b[0;34m=\u001b[0m\u001b[0mparser\u001b[0m\u001b[0;34m)\u001b[0m\u001b[0;34m\u001b[0m\u001b[0;34m\u001b[0m\u001b[0m\n\u001b[0m\u001b[1;32m    181\u001b[0m         \u001b[0;31m#for element in root.find(\"{http://ads.harvard.edu/schema/abs/1.1/abstracts}record\"):\u001b[0m\u001b[0;34m\u001b[0m\u001b[0;34m\u001b[0m\u001b[0;34m\u001b[0m\u001b[0m\n\u001b[1;32m    182\u001b[0m         \u001b[0mkeys\u001b[0m \u001b[0;34m=\u001b[0m \u001b[0mself\u001b[0m\u001b[0;34m.\u001b[0m\u001b[0mmeta\u001b[0m\u001b[0;34m.\u001b[0m\u001b[0mkeys\u001b[0m\u001b[0;34m(\u001b[0m\u001b[0;34m)\u001b[0m\u001b[0;34m\u001b[0m\u001b[0;34m\u001b[0m\u001b[0m\n",
      "\u001b[0;31mTypeError\u001b[0m: 'method' object is not subscriptable"
     ]
    }
   ],
   "source": [
    "import mylibrary\n",
    "ads = mylibrary.ADS.ADS(bibcode=\"2003ApJS..148..175S\")#, arx_id=arx_id)"
   ]
  },
  {
   "cell_type": "code",
   "execution_count": 8,
   "metadata": {},
   "outputs": [],
   "source": [
    "r = arx._get_ads_query()"
   ]
  },
  {
   "cell_type": "code",
   "execution_count": 8,
   "metadata": {},
   "outputs": [
    {
     "ename": "AttributeError",
     "evalue": "'NoneType' object has no attribute 'find'",
     "output_type": "error",
     "traceback": [
      "\u001b[0;31m---------------------------------------------------------------------------\u001b[0m",
      "\u001b[0;31mAttributeError\u001b[0m                            Traceback (most recent call last)",
      "\u001b[0;32m<ipython-input-8-361b8d502ccb>\u001b[0m in \u001b[0;36m<module>\u001b[0;34m\u001b[0m\n\u001b[1;32m     18\u001b[0m \u001b[0;31m#for element in root.find(\"{http://ads.harvard.edu/schema/abs/1.1/abstracts}record\"):\u001b[0m\u001b[0;34m\u001b[0m\u001b[0;34m\u001b[0m\u001b[0;34m\u001b[0m\u001b[0m\n\u001b[1;32m     19\u001b[0m \u001b[0mkeys\u001b[0m \u001b[0;34m=\u001b[0m \u001b[0mself\u001b[0m\u001b[0;34m.\u001b[0m\u001b[0mmeta\u001b[0m\u001b[0;34m.\u001b[0m\u001b[0mkeys\u001b[0m\u001b[0;34m(\u001b[0m\u001b[0;34m)\u001b[0m\u001b[0;34m\u001b[0m\u001b[0;34m\u001b[0m\u001b[0m\n\u001b[0;32m---> 20\u001b[0;31m \u001b[0;32mfor\u001b[0m \u001b[0melement\u001b[0m \u001b[0;32min\u001b[0m \u001b[0mroot\u001b[0m\u001b[0;34m.\u001b[0m\u001b[0mfind\u001b[0m\u001b[0;34m(\u001b[0m\u001b[0;34m\"{http://ads.harvard.edu/schema/abs/1.1/abstracts}record\"\u001b[0m\u001b[0;34m)\u001b[0m\u001b[0;34m:\u001b[0m\u001b[0;34m\u001b[0m\u001b[0;34m\u001b[0m\u001b[0m\n\u001b[0m\u001b[1;32m     21\u001b[0m     \u001b[0mname\u001b[0m \u001b[0;34m=\u001b[0m \u001b[0melement\u001b[0m\u001b[0;34m.\u001b[0m\u001b[0mtag\u001b[0m\u001b[0;34m.\u001b[0m\u001b[0msplit\u001b[0m\u001b[0;34m(\u001b[0m\u001b[0;34m\"}\"\u001b[0m\u001b[0;34m)\u001b[0m\u001b[0;34m[\u001b[0m\u001b[0;34m-\u001b[0m\u001b[0;36m1\u001b[0m\u001b[0;34m]\u001b[0m\u001b[0;34m\u001b[0m\u001b[0;34m\u001b[0m\u001b[0m\n\u001b[1;32m     22\u001b[0m     \u001b[0;32mif\u001b[0m \u001b[0mname\u001b[0m \u001b[0;32min\u001b[0m \u001b[0mkeys\u001b[0m\u001b[0;34m:\u001b[0m\u001b[0;34m\u001b[0m\u001b[0;34m\u001b[0m\u001b[0m\n",
      "\u001b[0;31mAttributeError\u001b[0m: 'NoneType' object has no attribute 'find'"
     ]
    }
   ],
   "source": [
    "import requests\n",
    "\n",
    "def extract_bibcode(json_bib):\n",
    "    return json_bib[\"export\"].split(\"{\")[1].split(\",\")[0]\n",
    "\n",
    "bibcode = {\"bibcode\":[\"2003ApJS..148..175S\"]}\n",
    "r = requests.post(\"https://api.adsabs.harvard.edu/v1/export/bibtex\",\\\n",
    "                 headers={'Authorization': 'Bearer ' + token},\n",
    "                 data=bibcode)\n",
    "#dd = r.json()\n",
    "#chk = dd[\"msg\"] # message\n",
    "#db = pybtex.database.parse_string(dd[\"export\"], bib_format=\"bibtex\")\n",
    "#ent = db.entries[extract_bibcode(dd)]\n",
    "\n",
    "self = Ads_entry()\n",
    "parser = etree.XMLParser(ns_clean=True, recover=True, encoding='utf-8')\n",
    "root = etree.fromstring(r.json()[\"export\"].encode(\"utf-8\"), parser=parser)\n",
    "#for element in root.find(\"{http://ads.harvard.edu/schema/abs/1.1/abstracts}record\"):\n",
    "keys = self.meta.keys()\n",
    "for element in root.find(\"{http://ads.harvard.edu/schema/abs/1.1/abstracts}record\"):\n",
    "    name = element.tag.split(\"}\")[-1]\n",
    "    if name in keys:\n",
    "        if isinstance(self.meta[name], list):\n",
    "            if len(element.getchildren()) > 0:\n",
    "                for Echild in element.getchildren():\n",
    "                    self.meta[name].append(Echild.text)             \n",
    "            else:\n",
    "                self.meta[name].append(element.text)   \n",
    "        else:\n",
    "            try:\n",
    "                self.meta[name] = element.attrib[\"term\"]\n",
    "            except:\n",
    "                self.meta[name] = element.text"
   ]
  },
  {
   "cell_type": "code",
   "execution_count": 9,
   "metadata": {},
   "outputs": [
    {
     "data": {
      "text/plain": [
       "'@ARTICLE{2003ApJS..148..175S,\\n       author = {{Spergel}, D.~N. and {Verde}, L. and {Peiris}, H.~V. and {Komatsu}, E. and\\n         {Nolta}, M.~R. and {Bennett}, C.~L. and {Halpern}, M. and\\n         {Hinshaw}, G. and {Jarosik}, N. and {Kogut}, A. and {Limon}, M. and\\n         {Meyer}, S.~S. and {Page}, L. and {Tucker}, G.~S. and {Weiland}, J.~L. and\\n         {Wollack}, E. and {Wright}, E.~L.},\\n        title = \"{First-Year Wilkinson Microwave Anisotropy Probe (WMAP) Observations: Determination of Cosmological Parameters}\",\\n      journal = {The Astrophysical Journal Supplement Series},\\n     keywords = {Cosmology: Cosmic Microwave Background, Cosmology: Cosmological Parameters- Cosmology: Observations, Cosmology: Early Universe, Astrophysics},\\n         year = \"2003\",\\n        month = \"Sep\",\\n       volume = {148},\\n       number = {1},\\n        pages = {175-194},\\n          doi = {10.1086/377226},\\narchivePrefix = {arXiv},\\n       eprint = {astro-ph/0302209},\\n primaryClass = {astro-ph},\\n       adsurl = {https://ui.adsabs.harvard.edu/abs/2003ApJS..148..175S},\\n      adsnote = {Provided by the SAO/NASA Astrophysics Data System}\\n}\\n\\n'"
      ]
     },
     "execution_count": 9,
     "metadata": {},
     "output_type": "execute_result"
    }
   ],
   "source": [
    "r.json()[\"export\"]"
   ]
  },
  {
   "cell_type": "code",
   "execution_count": 60,
   "metadata": {},
   "outputs": [
    {
     "data": {
      "text/plain": [
       "dict_keys(['msg', 'export'])"
      ]
     },
     "execution_count": 60,
     "metadata": {},
     "output_type": "execute_result"
    }
   ],
   "source": [
    "dd.keys()"
   ]
  },
  {
   "cell_type": "code",
   "execution_count": 1,
   "metadata": {},
   "outputs": [],
   "source": [
    "class Ads_entry():\n",
    "    def __init__(self):\n",
    "        self.meta = dict(\n",
    "            title=None,\n",
    "            journal=None,\n",
    "            volume=None,\n",
    "            page=None,\n",
    "            lastpage=None,\n",
    "            keywords=[],            \n",
    "            pubdate=None, \n",
    "            author=[],\n",
    "            #primary_category=None,\n",
    "            abstract=None, \n",
    "            DOI=None,\n",
    "            eprintid=None,\n",
    "            )"
   ]
  },
  {
   "cell_type": "code",
   "execution_count": 2,
   "metadata": {},
   "outputs": [
    {
     "ename": "NameError",
     "evalue": "name 'etree' is not defined",
     "output_type": "error",
     "traceback": [
      "\u001b[0;31m---------------------------------------------------------------------------\u001b[0m",
      "\u001b[0;31mNameError\u001b[0m                                 Traceback (most recent call last)",
      "\u001b[0;32m<ipython-input-2-1fbd60f00010>\u001b[0m in \u001b[0;36m<module>\u001b[0;34m\u001b[0m\n\u001b[1;32m      1\u001b[0m \u001b[0mself\u001b[0m \u001b[0;34m=\u001b[0m \u001b[0mAds_entry\u001b[0m\u001b[0;34m(\u001b[0m\u001b[0;34m)\u001b[0m\u001b[0;34m\u001b[0m\u001b[0;34m\u001b[0m\u001b[0m\n\u001b[0;32m----> 2\u001b[0;31m \u001b[0mparser\u001b[0m \u001b[0;34m=\u001b[0m \u001b[0metree\u001b[0m\u001b[0;34m.\u001b[0m\u001b[0mXMLParser\u001b[0m\u001b[0;34m(\u001b[0m\u001b[0mns_clean\u001b[0m\u001b[0;34m=\u001b[0m\u001b[0;32mTrue\u001b[0m\u001b[0;34m,\u001b[0m \u001b[0mrecover\u001b[0m\u001b[0;34m=\u001b[0m\u001b[0;32mTrue\u001b[0m\u001b[0;34m,\u001b[0m \u001b[0mencoding\u001b[0m\u001b[0;34m=\u001b[0m\u001b[0;34m'utf-8'\u001b[0m\u001b[0;34m)\u001b[0m\u001b[0;34m\u001b[0m\u001b[0;34m\u001b[0m\u001b[0m\n\u001b[0m\u001b[1;32m      3\u001b[0m \u001b[0mroot\u001b[0m \u001b[0;34m=\u001b[0m \u001b[0metree\u001b[0m\u001b[0;34m.\u001b[0m\u001b[0mfromstring\u001b[0m\u001b[0;34m(\u001b[0m\u001b[0mr\u001b[0m\u001b[0;34m.\u001b[0m\u001b[0mjson\u001b[0m\u001b[0;34m(\u001b[0m\u001b[0;34m)\u001b[0m\u001b[0;34m[\u001b[0m\u001b[0;34m\"export\"\u001b[0m\u001b[0;34m]\u001b[0m\u001b[0;34m.\u001b[0m\u001b[0mencode\u001b[0m\u001b[0;34m(\u001b[0m\u001b[0;34m\"utf-8\"\u001b[0m\u001b[0;34m)\u001b[0m\u001b[0;34m,\u001b[0m \u001b[0mparser\u001b[0m\u001b[0;34m=\u001b[0m\u001b[0mparser\u001b[0m\u001b[0;34m)\u001b[0m\u001b[0;34m\u001b[0m\u001b[0;34m\u001b[0m\u001b[0m\n\u001b[1;32m      4\u001b[0m \u001b[0;31m#for element in root.find(\"{http://ads.harvard.edu/schema/abs/1.1/abstracts}record\"):\u001b[0m\u001b[0;34m\u001b[0m\u001b[0;34m\u001b[0m\u001b[0;34m\u001b[0m\u001b[0m\n\u001b[1;32m      5\u001b[0m \u001b[0mkeys\u001b[0m \u001b[0;34m=\u001b[0m \u001b[0mself\u001b[0m\u001b[0;34m.\u001b[0m\u001b[0mmeta\u001b[0m\u001b[0;34m.\u001b[0m\u001b[0mkeys\u001b[0m\u001b[0;34m(\u001b[0m\u001b[0;34m)\u001b[0m\u001b[0;34m\u001b[0m\u001b[0;34m\u001b[0m\u001b[0m\n",
      "\u001b[0;31mNameError\u001b[0m: name 'etree' is not defined"
     ]
    }
   ],
   "source": [
    "self = Ads_entry()\n",
    "parser = etree.XMLParser(ns_clean=True, recover=True, encoding='utf-8')\n",
    "root = etree.fromstring(r.json()[\"export\"].encode(\"utf-8\"), parser=parser)\n",
    "#for element in root.find(\"{http://ads.harvard.edu/schema/abs/1.1/abstracts}record\"):\n",
    "keys = self.meta.keys()\n",
    "for element in root.find(\"{http://ads.harvard.edu/schema/abs/1.1/abstracts}record\"):\n",
    "    name = element.tag.split(\"}\")[-1]\n",
    "    if name in keys:\n",
    "        if isinstance(self.meta[name], list):\n",
    "            if len(element.getchildren()) > 0:\n",
    "                for Echild in element.getchildren():\n",
    "                    self.meta[name].append(Echild.text)             \n",
    "            else:\n",
    "                self.meta[name].append(element.text)   \n",
    "        else:\n",
    "            try:\n",
    "                self.meta[name] = element.attrib[\"term\"]\n",
    "            except:\n",
    "                self.meta[name] = element.text"
   ]
  },
  {
   "cell_type": "code",
   "execution_count": 83,
   "metadata": {},
   "outputs": [],
   "source": [
    "r = requests.post(\"https://api.adsabs.harvard.edu/v1/export/refabsxml\",\\\n",
    "                 params={\"q\":\"*:*\", \"fl\": \"bibcode,title\", \"rows\":2000},\n",
    "                 headers={'Authorization': 'Bearer ' + token},\n",
    "                 data=bibcode)"
   ]
  },
  {
   "cell_type": "code",
   "execution_count": 98,
   "metadata": {},
   "outputs": [
    {
     "data": {
      "text/plain": [
       "{'Date': 'Thu, 18 Apr 2019 02:37:10 GMT', 'Content-Type': 'application/json', 'Transfer-Encoding': 'chunked', 'Connection': 'keep-alive', 'Server': 'nginx/1.15.6', 'Vary': 'Accept-Encoding, Origin', 'Access-Control-Allow-Origin': 'http://0.0.0.0:8000, http://ads.ari.uni-heidelberg.de, http://ads.arsip.lipi.go.id, http://ads.astro.puc.cl, http://ads.bao.ac.cn, http://ads.inasan.ru, http://ads.iucaa.ernet.in, http://ads.mao.kiev.ua, http://ads.nao.ac.jp, http://ads.on.br, http://adsabs.harvard.edu, http://adsx.cfa.harvard.edu:8888, http://cdsads.u-strasbg.fr, http://esoads.eso.org, http://hourly.adslabs.org, http://localhost:8000, http://saaoads.chpc.ac.za, http://ui.adsabs.harvard.edu, http://ui.adslabs.org, http://ukads.nottingham.ac.uk, https://arxiv.org, https://beta.arxiv.org, https://demo.adsabs.harvard.edu, https://dev.adsabs.harvard.edu, https://devui.adsabs.harvard.edu, https://experimental-bumblebee.us-east-1.elasticbeanstalk.com, https://prod.adsabs.harvard.edu, https://staging-bumblebee.elasticbeanstalk.com, https://staging-bumblebee.us-east-1.elasticbeanstalk.com, https://ui.adsabs.harvard.edu', 'Access-Control-Allow-Methods': 'DELETE, GET, OPTIONS, POST, PUT', 'Access-Control-Allow-Headers': 'Accept, Authorization, Content-Type, Orcid-Authorization, X-BB-Api-Client-Version, X-CSRFToken', 'Access-Control-Allow-Credentials': 'true', 'X-RateLimit-Limit': '1000', 'X-RateLimit-Remaining': '997', 'X-RateLimit-Reset': '1555641316', 'Retry-After': '86285', 'Set-Cookie': 'session=.eJyrVopPK0otzlCyKikqTdVRis9MUbKqVlJIUrJS8st1NYoMCcv2zQo08a3KrorK8q30cwms8ndxNfQLSTbwcw_K9g8JyvVz8bVVqgXqLUgtyk3MS80rgZlWWpxaBDZRydLMwlCpFgC_ZSOB.XLfi1g.y44ysSatSFYkDLAs60Gm17svrmg; Expires=Fri, 17-Apr-2020 08:37:10 GMT; HttpOnly; Path=/', 'Content-Encoding': 'gzip'}"
      ]
     },
     "execution_count": 98,
     "metadata": {},
     "output_type": "execute_result"
    }
   ],
   "source": [
    "r.headers"
   ]
  },
  {
   "cell_type": "code",
   "execution_count": 64,
   "metadata": {},
   "outputs": [
    {
     "ename": "IndexError",
     "evalue": "list index out of range",
     "output_type": "error",
     "traceback": [
      "\u001b[0;31m---------------------------------------------------------------------------\u001b[0m",
      "\u001b[0;31mIndexError\u001b[0m                                Traceback (most recent call last)",
      "\u001b[0;32m<ipython-input-64-3ac1f405df33>\u001b[0m in \u001b[0;36m<module>\u001b[0;34m\u001b[0m\n\u001b[1;32m      2\u001b[0m \u001b[0mchk\u001b[0m \u001b[0;34m=\u001b[0m \u001b[0mdd\u001b[0m\u001b[0;34m[\u001b[0m\u001b[0;34m\"msg\"\u001b[0m\u001b[0;34m]\u001b[0m \u001b[0;31m# message\u001b[0m\u001b[0;34m\u001b[0m\u001b[0;34m\u001b[0m\u001b[0m\n\u001b[1;32m      3\u001b[0m \u001b[0mdb\u001b[0m \u001b[0;34m=\u001b[0m \u001b[0mpybtex\u001b[0m\u001b[0;34m.\u001b[0m\u001b[0mdatabase\u001b[0m\u001b[0;34m.\u001b[0m\u001b[0mparse_string\u001b[0m\u001b[0;34m(\u001b[0m\u001b[0mdd\u001b[0m\u001b[0;34m[\u001b[0m\u001b[0;34m\"export\"\u001b[0m\u001b[0;34m]\u001b[0m\u001b[0;34m,\u001b[0m \u001b[0mbib_format\u001b[0m\u001b[0;34m=\u001b[0m\u001b[0;34m\"bibtex\"\u001b[0m\u001b[0;34m)\u001b[0m\u001b[0;34m\u001b[0m\u001b[0;34m\u001b[0m\u001b[0m\n\u001b[0;32m----> 4\u001b[0;31m \u001b[0ment\u001b[0m \u001b[0;34m=\u001b[0m \u001b[0mdb\u001b[0m\u001b[0;34m.\u001b[0m\u001b[0mentries\u001b[0m\u001b[0;34m[\u001b[0m\u001b[0mextract_bibcode\u001b[0m\u001b[0;34m(\u001b[0m\u001b[0mdd\u001b[0m\u001b[0;34m)\u001b[0m\u001b[0;34m]\u001b[0m\u001b[0;34m\u001b[0m\u001b[0;34m\u001b[0m\u001b[0m\n\u001b[0m",
      "\u001b[0;32m<ipython-input-47-88f5f5c16b2b>\u001b[0m in \u001b[0;36mextract_bibcode\u001b[0;34m(json_bib)\u001b[0m\n\u001b[1;32m      1\u001b[0m \u001b[0;32mdef\u001b[0m \u001b[0mextract_bibcode\u001b[0m\u001b[0;34m(\u001b[0m\u001b[0mjson_bib\u001b[0m\u001b[0;34m)\u001b[0m\u001b[0;34m:\u001b[0m\u001b[0;34m\u001b[0m\u001b[0;34m\u001b[0m\u001b[0m\n\u001b[0;32m----> 2\u001b[0;31m     \u001b[0;32mreturn\u001b[0m \u001b[0mjson_bib\u001b[0m\u001b[0;34m[\u001b[0m\u001b[0;34m\"export\"\u001b[0m\u001b[0;34m]\u001b[0m\u001b[0;34m.\u001b[0m\u001b[0msplit\u001b[0m\u001b[0;34m(\u001b[0m\u001b[0;34m\"{\"\u001b[0m\u001b[0;34m)\u001b[0m\u001b[0;34m[\u001b[0m\u001b[0;36m1\u001b[0m\u001b[0;34m]\u001b[0m\u001b[0;34m.\u001b[0m\u001b[0msplit\u001b[0m\u001b[0;34m(\u001b[0m\u001b[0;34m\",\"\u001b[0m\u001b[0;34m)\u001b[0m\u001b[0;34m[\u001b[0m\u001b[0;36m0\u001b[0m\u001b[0;34m]\u001b[0m\u001b[0;34m\u001b[0m\u001b[0;34m\u001b[0m\u001b[0m\n\u001b[0m\u001b[1;32m      3\u001b[0m \u001b[0;34m\u001b[0m\u001b[0m\n\u001b[1;32m      4\u001b[0m \u001b[0mbibcode\u001b[0m \u001b[0;34m=\u001b[0m \u001b[0;34m{\u001b[0m\u001b[0;34m\"bibcode\"\u001b[0m\u001b[0;34m:\u001b[0m\u001b[0;34m[\u001b[0m\u001b[0;34m\"2003ApJS..148..175S\"\u001b[0m\u001b[0;34m]\u001b[0m\u001b[0;34m}\u001b[0m\u001b[0;34m\u001b[0m\u001b[0;34m\u001b[0m\u001b[0m\n\u001b[1;32m      5\u001b[0m r = requests.post(\"https://api.adsabs.harvard.edu/v1/export/bibtex\",\\\n",
      "\u001b[0;31mIndexError\u001b[0m: list index out of range"
     ]
    }
   ],
   "source": [
    "dd = r.json()\n",
    "chk = dd[\"msg\"] # message\n",
    "db = pybtex.database.parse_string(dd[\"export\"], bib_format=\"bibtex\")\n",
    "ent = db.entries[extract_bibcode(dd)]"
   ]
  }
 ],
 "metadata": {
  "kernelspec": {
   "display_name": "Python 3",
   "language": "python",
   "name": "python3"
  },
  "language_info": {
   "codemirror_mode": {
    "name": "ipython",
    "version": 3
   },
   "file_extension": ".py",
   "mimetype": "text/x-python",
   "name": "python",
   "nbconvert_exporter": "python",
   "pygments_lexer": "ipython3",
   "version": "3.7.3"
  }
 },
 "nbformat": 4,
 "nbformat_minor": 2
}
