{
 "cells": [
  {
   "cell_type": "markdown",
   "metadata": {},
   "source": [
    "# A simple recommender example using Python\n",
    "\n",
    "\n",
    "https://www.analyticsvidhya.com/blog/2018/06/comprehensive-guide-recommendation-engine-python/"
   ]
  },
  {
   "cell_type": "markdown",
   "metadata": {},
   "source": [
    "## 1. Data\n",
    "\n",
    "The quantity and quality of the data determines the quality of predictions. \n",
    "Gather enough data, refine (extract) relevant subset,..."
   ]
  },
  {
   "cell_type": "markdown",
   "metadata": {},
   "source": [
    "### 2.1 Content-based filtering\n",
    "\n",
    "Assume that if a user like A, and B is similar to A, then the user will probably like B, too.\n",
    "Consider a *profile vector*, which contains behavior of a Netflix user. This vector can be compared to *item vectors* of videos containing informations such as genre, cast, directors, etc. \n",
    "\n",
    "\n",
    "#### Measures\n",
    "The similarity can be calculated as the cosine between vectors as\n",
    "#### Cosine similarity\n",
    "\n",
    "\\begin{equation*}\n",
    " sim(A,B) = cos(\\theta) = \\frac{A \\dot B}{\\left \\| A \\right \\|\\left \\| B \\right \\|}\n",
    "\\end{equation*}\n",
    "\n",
    "#### Euclidean distance\n",
    "\n",
    "#### Pearson's Correlation\n",
    "\n",
    "\\begin{equation*}\n",
    "sim(u,v)=\\frac { \\sum { ({ r }_{ ui }-{ \\bar { r }  }_{ u })({ r }_{ vi }-\\bar { { r }_{ v } } ) }  }{ \\sqrt { { \\sum { ({ r }_{ ui }-{ \\bar { r }  }_{ u }) }  }^{ 2 } } \\sqrt { { \\sum { ({ r }_{ vi }-\\bar { { r }_{ v } } ) }  }^{ 2 } }  } \n",
    "\\end{equation*}\n",
    "\n",
    "\n",
    "\n",
    "#### Draw back\n",
    "This method can only be applied to the data set of the *same* kind as the user has rated."
   ]
  },
  {
   "cell_type": "markdown",
   "metadata": {},
   "source": [
    "### 2.2 More general, collaborative filtering\n",
    "\n",
    "#### Between users\n",
    "If user A and B both like a,b, and B also like c, then A may like c, too. \n",
    "\n",
    "$P_{u,i}$, the prediction of an item i for a user u can be calculated as\n",
    "\n",
    "\\begin{equation*}\n",
    "{ P }_{ u,i }=\\frac { \\sum _{ v }^{  }{ \\left( { r }_{ v,i }*{ s }_{ u,v } \\right)  }  }{ \\sum _{ v }^{  }{ { s }_{ u,v } }  } \n",
    "\\end{equation*}\n",
    "\n",
    ", where v denotes other user, and S represents the similarity between users.\n",
    "\n",
    "Calculating similiarty between all pairs of users is time consuming. Thus a subset of users might be used in practice.\n",
    "\n",
    "The same can be done **between items.**"
   ]
  },
  {
   "cell_type": "markdown",
   "metadata": {},
   "source": [
    "# Case study"
   ]
  },
  {
   "cell_type": "code",
   "execution_count": 2,
   "metadata": {},
   "outputs": [],
   "source": [
    "import numpy as np\n",
    "import pandas as pd\n",
    "%matplotlib inline\n",
    "import matplotlib\n",
    "import matplotlib.pyplot as plt"
   ]
  },
  {
   "cell_type": "code",
   "execution_count": 12,
   "metadata": {},
   "outputs": [
    {
     "name": "stdout",
     "output_type": "stream",
     "text": [
      "(90570, 4) (9430, 4)\n"
     ]
    }
   ],
   "source": [
    "u_cols = [\"user_id\", \"age\", \"sex\", 'occupation', 'zip_code']\n",
    "users = pd.read_csv('ml-100k/u.user', sep='|', names=u_cols, encoding=\"latin-1\")\n",
    "\n",
    "r_cols = ['user_id', 'movie_id', 'rating', 'unix_timestamp']\n",
    "ratings = pd.read_csv('ml-100k/u.data', sep='\\t', names=r_cols, encoding=\"latin-1\")\n",
    "ratings_train = pd.read_csv('ml-100k/ua.base', sep='\\t', names=r_cols, encoding='latin-1')\n",
    "ratings_test = pd.read_csv('ml-100k/ua.test', sep='\\t', names=r_cols, encoding='latin-1')\n",
    "\n",
    "i_cols = ['movie_id', 'movie_title', 'release_date', 'video_release_date', 'IMDb_URL',\n",
    "          \"unknown\", 'Action', 'Adventure', 'Animation', 'Children\\'s',\n",
    "          'Comedy', 'Crime', 'Documentary', 'Drama', 'Fantasy',\n",
    "          'Film-Noir', 'Horror', 'Musical', 'Mystery', 'Romance',\n",
    "          'Sci-Fi', 'Thriller', 'War', 'Western']\n",
    "items = pd.read_csv('ml-100k/u.item', sep='|', names=i_cols, encoding='latin-1')\n",
    "\n",
    "print(ratings_train.shape, ratings_test.shape)"
   ]
  },
  {
   "cell_type": "markdown",
   "metadata": {},
   "source": [
    "## Collaborative filtering model\n",
    " both user similarity and item similarity."
   ]
  },
  {
   "cell_type": "code",
   "execution_count": 14,
   "metadata": {},
   "outputs": [],
   "source": [
    "n_users = ratings.user_id.unique().shape[0]\n",
    "n_items = ratings.movie_id.unique().shape[0]"
   ]
  },
  {
   "cell_type": "code",
   "execution_count": 16,
   "metadata": {},
   "outputs": [],
   "source": [
    "# -1 because pandas index starts from 1.\n",
    "\n",
    "data_matrix = np.zeros((n_users, n_items))\n",
    "for line in ratings.itertuples():\n",
    "    data_matrix[line[1]-1, line[2]-1] = line[3]"
   ]
  },
  {
   "cell_type": "code",
   "execution_count": null,
   "metadata": {},
   "outputs": [],
   "source": []
  },
  {
   "cell_type": "code",
   "execution_count": 19,
   "metadata": {},
   "outputs": [],
   "source": [
    "from sklearn.metrics.pairwise import pairwise_distances\n",
    "\"\"\"\n",
    "    Distance metrics ['cityblock', 'cosine', 'euclidean', 'l1', 'l2', 'manhattan']\n",
    "\"\"\"\n",
    "\n",
    "# user-user similarity, item-item similarity\n",
    "user_similarity = pairwise_distances(data_matrix, metric=\"cosine\")\n",
    "item_similarity = pairwise_distances(data_matrix.T, metric=\"cosine\")"
   ]
  },
  {
   "cell_type": "code",
   "execution_count": 20,
   "metadata": {},
   "outputs": [],
   "source": [
    "def predict(ratings, similarity, type=\"user\"):\n",
    "    \"Predicted rating based on \"\n",
    "    if type=='user':\n",
    "        mean_user_rating = ratings.mean(axis=1)\n",
    "        ratings_diff = (ratings - mean_user_rating[:, np.newaxis])\n",
    "        pred = mean_user_rating[:, np.newaxis] + \\\n",
    "                similarity.dot(ratings_diff) / np.array([np.abs(similarity).sum(axis=1)]).T\n",
    "    elif type == 'item':\n",
    "        pred = ratings.dot(similarity) / np.array([np.abs(similarity).sum(axis=1)])\n",
    "        \n",
    "    return pred"
   ]
  },
  {
   "cell_type": "code",
   "execution_count": 23,
   "metadata": {},
   "outputs": [],
   "source": [
    "u_pred = predict(data_matrix, user_similarity, type=\"user\")\n",
    "i_pred = predict(data_matrix, item_similarity, type=\"item\")"
   ]
  },
  {
   "cell_type": "code",
   "execution_count": null,
   "metadata": {},
   "outputs": [],
   "source": []
  }
 ],
 "metadata": {
  "kernelspec": {
   "display_name": "Python 3",
   "language": "python",
   "name": "python3"
  },
  "language_info": {
   "codemirror_mode": {
    "name": "ipython",
    "version": 3
   },
   "file_extension": ".py",
   "mimetype": "text/x-python",
   "name": "python",
   "nbconvert_exporter": "python",
   "pygments_lexer": "ipython3",
   "version": "3.7.1"
  }
 },
 "nbformat": 4,
 "nbformat_minor": 2
}
