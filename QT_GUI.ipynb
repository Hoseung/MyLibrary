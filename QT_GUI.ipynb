{
 "cells": [
  {
   "cell_type": "markdown",
   "metadata": {},
   "source": [
    "### Nice PyQt5 tutorial\n",
    "https://codeloop.org/category/pyqt5/  \n",
    "https://www.youtube.com/playlist?list=PL1FgJUcJJ03uO70zDLDF3oaTu6s2QLOPa\n"
   ]
  },
  {
   "cell_type": "code",
   "execution_count": 1,
   "metadata": {},
   "outputs": [],
   "source": [
    "from PyQt5.QtWidgets import QMainWindow, QApplication, QPushButton\n",
    "import sys"
   ]
  },
  {
   "cell_type": "markdown",
   "metadata": {},
   "source": [
    "#### 1. Empty window"
   ]
  },
  {
   "cell_type": "code",
   "execution_count": 3,
   "metadata": {},
   "outputs": [],
   "source": [
    "import sys\n",
    "from PyQt5 import QtWidgets"
   ]
  },
  {
   "cell_type": "code",
   "execution_count": 4,
   "metadata": {},
   "outputs": [
    {
     "ename": "SystemExit",
     "evalue": "0",
     "output_type": "error",
     "traceback": [
      "An exception has occurred, use %tb to see the full traceback.\n",
      "\u001b[0;31mSystemExit\u001b[0m\u001b[0;31m:\u001b[0m 0\n"
     ]
    },
    {
     "name": "stderr",
     "output_type": "stream",
     "text": [
      "/home/hoseung/anaconda3/envs/mylibrary/lib/python3.7/site-packages/IPython/core/interactiveshell.py:3304: UserWarning: To exit: use 'exit', 'quit', or Ctrl-D.\n",
      "  warn(\"To exit: use 'exit', 'quit', or Ctrl-D.\", stacklevel=1)\n"
     ]
    }
   ],
   "source": [
    "class Window(QMainWindow):\n",
    "    def __init__(self):\n",
    "        super().__init__()\n",
    "        \n",
    "        self.title = \"PyQt5 Window\"\n",
    "        # Geometry\n",
    "        self.top   = 100\n",
    "        self.left  = 100\n",
    "        self.width = 400\n",
    "        self.height = 300\n",
    "       \n",
    "    def InitWindos(self):\n",
    "        self.setWindowTitle(self.title)\n",
    "        self.setGeometry(self.left, self.top, self.width, self.height)\n",
    "        \n",
    "        self.show()\n",
    "\n",
    "# Just running on a bare cell will break the kernel.\n",
    "if __name__ == '__main__':\n",
    "    if not QApplication.instance():\n",
    "        app = QApplication(sys.argv)\n",
    "    else:\n",
    "        app = QApplication.instance() \n",
    "    main = Window()\n",
    "    main.show()\n",
    "    sys.exit(app.exec())"
   ]
  },
  {
   "cell_type": "markdown",
   "metadata": {},
   "source": [
    "#### 2. Add a button"
   ]
  },
  {
   "cell_type": "code",
   "execution_count": 8,
   "metadata": {},
   "outputs": [],
   "source": [
    "from PyQt5 import QtGui\n",
    "from PyQt5.QtCore import QRect\n",
    "from PyQt5 import QtCore"
   ]
  },
  {
   "cell_type": "code",
   "execution_count": 5,
   "metadata": {},
   "outputs": [
    {
     "ename": "SystemExit",
     "evalue": "0",
     "output_type": "error",
     "traceback": [
      "An exception has occurred, use %tb to see the full traceback.\n",
      "\u001b[0;31mSystemExit\u001b[0m\u001b[0;31m:\u001b[0m 0\n"
     ]
    }
   ],
   "source": [
    "class Window(QMainWindow):\n",
    "    def __init__(self):\n",
    "        super().__init__()\n",
    "        \n",
    "        title = \"PyQt5 PUsh Button\"\n",
    "        # Geometry\n",
    "        left  = 500\n",
    "        top   = 100\n",
    "        width = 200\n",
    "        height = 200\n",
    "\n",
    "        iconName = \"cut.jpg\"\n",
    "\n",
    "        self.setWindowTitle(title)\n",
    "        self.setWindowIcon(QtGui.QIcon(iconName)) # Icon used in Gnome activity bar\n",
    "        self.setGeometry(left, top, width, height)\n",
    "        \n",
    "        self.UiComponents()\n",
    "        \n",
    "        self.show()\n",
    "    \n",
    "    def UiComponents(self):\n",
    "        button = QPushButton(\"Click me\", self)\n",
    "        button.move(50,50) #  Place at (50,50)\n",
    "        \"\"\"\n",
    "        Or, you can use setGeomoetry\n",
    "        button.setGeometry(Qrect(100,100,80,30))\n",
    "        \"\"\"\n",
    "            \n",
    "        button.setIcon(QtGui.QIcon(\"cut.jpg\"))\n",
    "        button.setIconSize(QtCore.QSize(50,50))\n",
    "        # Tooltip message using html formatting.\n",
    "        button.setToolTip(\"<h2>This is click me button</h2>\")\n",
    "        \n",
    "\n",
    "\n",
    "if __name__ == '__main__':\n",
    "    if not QApplication.instance():\n",
    "        app = QApplication(sys.argv)\n",
    "    else:\n",
    "        app = QApplication.instance() \n",
    "    main = Window()\n",
    "    main.show()\n",
    "    sys.exit(app.exec())"
   ]
  },
  {
   "cell_type": "markdown",
   "metadata": {},
   "source": [
    "#### 3. Events"
   ]
  },
  {
   "cell_type": "code",
   "execution_count": 5,
   "metadata": {},
   "outputs": [
    {
     "name": "stdout",
     "output_type": "stream",
     "text": [
      "Hi\n"
     ]
    },
    {
     "ename": "SystemExit",
     "evalue": "0",
     "output_type": "error",
     "traceback": [
      "An exception has occurred, use %tb to see the full traceback.\n",
      "\u001b[0;31mSystemExit\u001b[0m\u001b[0;31m:\u001b[0m 0\n"
     ]
    },
    {
     "name": "stderr",
     "output_type": "stream",
     "text": [
      "/home/hoseung/anaconda3/envs/mylibrary/lib/python3.7/site-packages/IPython/core/interactiveshell.py:3304: UserWarning: To exit: use 'exit', 'quit', or Ctrl-D.\n",
      "  warn(\"To exit: use 'exit', 'quit', or Ctrl-D.\", stacklevel=1)\n"
     ]
    }
   ],
   "source": [
    "class Window(QMainWindow):\n",
    "    def __init__(self):\n",
    "        super().__init__()\n",
    "        \n",
    "        title = \"PyQt5 Events And Signals\"\n",
    "        # Geometry\n",
    "        left  = 500\n",
    "        top   = 100\n",
    "        width = 200\n",
    "        height = 200\n",
    "\n",
    "        iconName = \"cut.jpg\"\n",
    "\n",
    "        self.setWindowTitle(title)\n",
    "        self.setWindowIcon(QtGui.QIcon(iconName))\n",
    "        self.setGeometry(left, top, width, height)\n",
    "        \n",
    "        self.CreateButton()\n",
    "        \n",
    "        self.show()\n",
    "    \n",
    "    def CreateButton(self):\n",
    "        button = QPushButton(\"Click me\", self)\n",
    "        button.move(50,50) #  Place at (50,50)\n",
    "        \"\"\"\n",
    "        Or, you can use setGeomoetry\n",
    "        button.setGeometry(Qrect(100,10`0,80,30))\n",
    "        \"\"\"\n",
    "            \n",
    "        button.setIcon(QtGui.QIcon(\"cut.jpg\"))\n",
    "        button.setIconSize(QtCore.QSize(50,50))\n",
    "        # Tooltip message using html formatting.\n",
    "        button.setToolTip(\"<h2>This is click me button</h2>\")\n",
    "        \n",
    "        # ClickMe function is linked to clicking the button signal\n",
    "        button.clicked.connect(self.ClickMe) \n",
    "        \n",
    "    def ClickMe(self):\n",
    "        print(\"Hi\")\n",
    "        \n",
    "        self.close()\n",
    "        #sys.exit() # sys.exit will close the Python kernel.\n",
    "        # And... self.destroy() closes the window, but does not return to the kernel. \n",
    "        # It hangs.\n",
    "\n",
    "\n",
    "if __name__ == '__main__':\n",
    "    if not QApplication.instance():\n",
    "        app = QApplication(sys.argv)\n",
    "    else:\n",
    "        app = QApplication.instance() \n",
    "    main = Window()\n",
    "    main.show()\n",
    "    sys.exit(app.exec())"
   ]
  },
  {
   "cell_type": "markdown",
   "metadata": {},
   "source": [
    "#### 4. Layout & Dialog"
   ]
  },
  {
   "cell_type": "code",
   "execution_count": 16,
   "metadata": {
    "scrolled": true
   },
   "outputs": [
    {
     "ename": "SystemExit",
     "evalue": "0",
     "output_type": "error",
     "traceback": [
      "An exception has occurred, use %tb to see the full traceback.\n",
      "\u001b[0;31mSystemExit\u001b[0m\u001b[0;31m:\u001b[0m 0\n"
     ]
    },
    {
     "name": "stderr",
     "output_type": "stream",
     "text": [
      "/home/hoseung/anaconda3/envs/mylibrary/lib/python3.7/site-packages/IPython/core/interactiveshell.py:3304: UserWarning: To exit: use 'exit', 'quit', or Ctrl-D.\n",
      "  warn(\"To exit: use 'exit', 'quit', or Ctrl-D.\", stacklevel=1)\n"
     ]
    }
   ],
   "source": [
    "from PyQt5.QtWidgets import QGroupBox, QHBoxLayout, QVBoxLayout, QDialog\n",
    "\n",
    "# Using QDialog, not QMainWindow\n",
    "class Window(QDialog):\n",
    "    def __init__(self):\n",
    "        super().__init__()\n",
    "        \n",
    "        self.title = \"PyQt5 Events And Signals\"\n",
    "        # Geometry\n",
    "        self.left  = 500\n",
    "        self.top   = 100\n",
    "        self.width = 500\n",
    "        self.height = 500\n",
    "\n",
    "        self.iconName = \"cut.jpg\"\n",
    "        self.InitWindow()\n",
    "        \n",
    "    def InitWindow(self):\n",
    "        self.setWindowTitle(self.title)\n",
    "        self.setWindowIcon(QtGui.QIcon(self.iconName))\n",
    "        self.setGeometry(self.left, self.top, \n",
    "                         self.width, self.height)\n",
    "        \n",
    "        self.CreateLayout()\n",
    "        vbox = QVBoxLayout()\n",
    "        vbox.addWidget(self.groupBox)\n",
    "        self.setLayout(vbox)\n",
    "        \n",
    "        self.show()\n",
    "        \n",
    "    def CreateLayout(self):\n",
    "        self.groupBox = QGroupBox(\"What is your favorite sports?\")\n",
    "        hboxlayout = QHBoxLayout()\n",
    "        \n",
    "        self.button = QPushButton(\"Football\", self)\n",
    "        self.button.setIcon(QtGui.QIcon(\"football.png\"))\n",
    "        self.button.setIconSize(QtCore.QSize(40,40))\n",
    "        self.button.setMinimumHeight(40)\n",
    "        hboxlayout.addWidget(self.button)\n",
    "        \n",
    "        self.button2 = QPushButton(\"Baseball\", self)\n",
    "        self.button2.setIcon(QtGui.QIcon(\"Baseball.jpg\"))\n",
    "        self.button2.setIconSize(QtCore.QSize(40,40))\n",
    "        self.button2.setMinimumHeight(40)\n",
    "        hboxlayout.addWidget(self.button2)\n",
    "\n",
    "        self.groupBox.setLayout(hboxlayout)\n",
    "\n",
    "if __name__ == '__main__':\n",
    "    if not QApplication.instance():\n",
    "        app = QApplication(sys.argv)\n",
    "    else:\n",
    "        app = QApplication.instance() \n",
    "    main = Window()\n",
    "    main.show()\n",
    "    sys.exit(app.exec())"
   ]
  },
  {
   "cell_type": "markdown",
   "metadata": {},
   "source": [
    "#### 5. Grid Layout"
   ]
  },
  {
   "cell_type": "code",
   "execution_count": 21,
   "metadata": {},
   "outputs": [
    {
     "ename": "SystemExit",
     "evalue": "0",
     "output_type": "error",
     "traceback": [
      "An exception has occurred, use %tb to see the full traceback.\n",
      "\u001b[0;31mSystemExit\u001b[0m\u001b[0;31m:\u001b[0m 0\n"
     ]
    }
   ],
   "source": [
    "from PyQt5.QtWidgets import QGroupBox, QVBoxLayout, QDialog, QGridLayout\n",
    "\n",
    "class Window(QDialog):\n",
    "    def __init__(self):\n",
    "        super().__init__()\n",
    "        \n",
    "        self.title = \"PyQt5 Grid Layout\"\n",
    "        # Geometry\n",
    "        self.left  = 500\n",
    "        self.top   = 100\n",
    "        self.width = 500\n",
    "        self.height = 500\n",
    "\n",
    "        self.iconName = \"cut.jpg\"\n",
    "        self.InitWindow()\n",
    "        \n",
    "    def InitWindow(self):\n",
    "        self.setWindowTitle(self.title)\n",
    "        self.setWindowIcon(QtGui.QIcon(self.iconName))\n",
    "        self.setGeometry(self.left, self.top, \n",
    "                         self.width, self.height)\n",
    "        \n",
    "        self.CreateLayout()\n",
    "        vbox = QVBoxLayout()\n",
    "        vbox.addWidget(self.groupBox)\n",
    "        self.setLayout(vbox)\n",
    "        \n",
    "        self.show()\n",
    "        \n",
    "    def CreateLayout(self):\n",
    "        self.groupBox = QGroupBox(\"What is your favorite Programming Language?\")\n",
    "        gridlayout = QGridLayout()\n",
    "        \n",
    "        button = QPushButton(\"Python\", self)\n",
    "        button.setIcon(QtGui.QIcon(\"python.png\"))\n",
    "        button.setIconSize(QtCore.QSize(100,100))\n",
    "        button.setMinimumHeight(80)\n",
    "        gridlayout.addWidget(button, 0,0)\n",
    "        \n",
    "        button2 = QPushButton(\"C++\", self)\n",
    "        button2.setIcon(QtGui.QIcon(\"cpp.png\"))\n",
    "        button2.setIconSize(QtCore.QSize(100,100))\n",
    "        button2.setMinimumHeight(80)\n",
    "        gridlayout.addWidget(button2, 0,1)\n",
    "        \n",
    "        button3 = QPushButton(\"R\", self)\n",
    "        button3.setIcon(QtGui.QIcon(\"R.png\"))\n",
    "        button3.setIconSize(QtCore.QSize(100,100))\n",
    "        button3.setMinimumHeight(80)\n",
    "        gridlayout.addWidget(button3, 1,0)\n",
    "        \n",
    "        button4 = QPushButton(\"Julia\", self)\n",
    "        button4.setIcon(QtGui.QIcon(\"julia.png\"))\n",
    "        button4.setIconSize(QtCore.QSize(100,100))\n",
    "        button4.setMinimumHeight(80)\n",
    "        gridlayout.addWidget(button4, 1,1)\n",
    "\n",
    "        self.groupBox.setLayout(gridlayout)\n",
    "\n",
    "if __name__ == '__main__':\n",
    "    if not QApplication.instance():\n",
    "        app = QApplication(sys.argv)\n",
    "    else:\n",
    "        app = QApplication.instance() \n",
    "    main = Window()\n",
    "    main.show()\n",
    "    sys.exit(app.exec())"
   ]
  },
  {
   "cell_type": "markdown",
   "metadata": {},
   "source": [
    "#### 6. Lables and Stylesheets"
   ]
  },
  {
   "cell_type": "code",
   "execution_count": 26,
   "metadata": {},
   "outputs": [
    {
     "ename": "SystemExit",
     "evalue": "0",
     "output_type": "error",
     "traceback": [
      "An exception has occurred, use %tb to see the full traceback.\n",
      "\u001b[0;31mSystemExit\u001b[0m\u001b[0;31m:\u001b[0m 0\n"
     ]
    },
    {
     "name": "stderr",
     "output_type": "stream",
     "text": [
      "/home/hoseung/anaconda3/envs/mylibrary/lib/python3.7/site-packages/IPython/core/interactiveshell.py:3304: UserWarning: To exit: use 'exit', 'quit', or Ctrl-D.\n",
      "  warn(\"To exit: use 'exit', 'quit', or Ctrl-D.\", stacklevel=1)\n"
     ]
    }
   ],
   "source": [
    "from PyQt5.QtWidgets import QGroupBox, QHBoxLayout, QVBoxLayout, QDialog, QLabel\n",
    "\n",
    "class Window(QDialog):\n",
    "    def __init__(self):\n",
    "        super().__init__()\n",
    "\n",
    "        self.title = \"PyQt5 Label\"\n",
    "        # Geometry\n",
    "        self.left  = 500\n",
    "        self.top   = 100\n",
    "        self.width = 500\n",
    "        self.height = 500\n",
    "\n",
    "        self.iconName = \"cut.jpg\"\n",
    "        \n",
    "        self.InitWindow()\n",
    "        \n",
    "    def InitWindow(self):\n",
    "        self.setWindowIcon(QtGui.QIcon(self.iconName))\n",
    "        self.setWindowTitle(self.title)\n",
    "        self.setGeometry(self.left, self.top, \n",
    "                         self.width, self.height)\n",
    "        \n",
    "        ##\n",
    "        vbox = QVBoxLayout()\n",
    "        label = QLabel(\"This is PyQt5 Label\")\n",
    "        vbox.addWidget(label)\n",
    "        \n",
    "        label2 = QLabel(\"Second label\")\n",
    "        label2.setFont(QtGui.QFont(\"Sanserif\", 30))\n",
    "        label2.setStyleSheet('color:red')\n",
    "        vbox.addWidget(label2)\n",
    "        \n",
    "        self.setLayout(vbox)\n",
    "        \n",
    "        self.show()\n",
    "        \n",
    "if __name__ == '__main__':\n",
    "    if not QApplication.instance():\n",
    "        app = QApplication(sys.argv)\n",
    "    else:\n",
    "        app = QApplication.instance() \n",
    "    main = Window()\n",
    "    main.show()\n",
    "    sys.exit(app.exec())"
   ]
  },
  {
   "cell_type": "markdown",
   "metadata": {},
   "source": [
    "#### 7. Adding images in window"
   ]
  },
  {
   "cell_type": "code",
   "execution_count": 31,
   "metadata": {},
   "outputs": [
    {
     "ename": "SystemExit",
     "evalue": "0",
     "output_type": "error",
     "traceback": [
      "An exception has occurred, use %tb to see the full traceback.\n",
      "\u001b[0;31mSystemExit\u001b[0m\u001b[0;31m:\u001b[0m 0\n"
     ]
    }
   ],
   "source": [
    "from PyQt5.QtGui import QPixmap\n",
    "\n",
    "class Window(QDialog):\n",
    "    def __init__(self):\n",
    "        super().__init__()\n",
    "\n",
    "        self.title = \"PyQt5 Label\"\n",
    "        # Geometry\n",
    "        self.left  = 500\n",
    "        self.top   = 100\n",
    "        self.width = 500\n",
    "        self.height = 500\n",
    "\n",
    "        self.iconName = \"cut.jpg\"\n",
    "        \n",
    "        self.InitWindow()\n",
    "        \n",
    "    def InitWindow(self):\n",
    "        self.setWindowIcon(QtGui.QIcon(self.iconName))\n",
    "        self.setWindowTitle(self.title)\n",
    "        self.setGeometry(self.left, self.top, \n",
    "                         self.width, self.height)        \n",
    "        \n",
    "        vbox = QVBoxLayout()\n",
    "        labelImage = QLabel()\n",
    "        pixmap = QPixmap(\"cut.jpg\")\n",
    "        labelImage.setPixmap(pixmap)\n",
    "        \n",
    "        vbox.addWidget(labelImage)\n",
    "        \n",
    "        self.setLayout(vbox)\n",
    "        \n",
    "        self.show()       \n",
    "        \n",
    "        \n",
    "if __name__ == '__main__':\n",
    "    if not QApplication.instance():\n",
    "        app = QApplication(sys.argv)\n",
    "    else:\n",
    "        app = QApplication.instance() \n",
    "    main = Window()\n",
    "    main.show()\n",
    "    sys.exit(app.exec())"
   ]
  },
  {
   "cell_type": "markdown",
   "metadata": {},
   "source": [
    "#### 8. Radiobutton"
   ]
  },
  {
   "cell_type": "code",
   "execution_count": 46,
   "metadata": {},
   "outputs": [
    {
     "ename": "SystemExit",
     "evalue": "0",
     "output_type": "error",
     "traceback": [
      "An exception has occurred, use %tb to see the full traceback.\n",
      "\u001b[0;31mSystemExit\u001b[0m\u001b[0;31m:\u001b[0m 0\n"
     ]
    },
    {
     "name": "stderr",
     "output_type": "stream",
     "text": [
      "/home/hoseung/anaconda3/envs/mylibrary/lib/python3.7/site-packages/IPython/core/interactiveshell.py:3304: UserWarning: To exit: use 'exit', 'quit', or Ctrl-D.\n",
      "  warn(\"To exit: use 'exit', 'quit', or Ctrl-D.\", stacklevel=1)\n"
     ]
    }
   ],
   "source": [
    "from PyQt5.QtWidgets import QRadioButton\n",
    "\n",
    "class Window(QDialog):\n",
    "    def __init__(self):\n",
    "        super().__init__()\n",
    "\n",
    "        self.title = \"PyQt5 Label\"\n",
    "        # Geometry\n",
    "        self.left  = 500\n",
    "        self.top   = 100\n",
    "        self.width = 500\n",
    "        self.height = 500\n",
    "\n",
    "        self.iconName = \"cut.jpg\"\n",
    "        \n",
    "        self.InitWindow()\n",
    "        \n",
    "    def InitWindow(self):\n",
    "        self.setWindowIcon(QtGui.QIcon(self.iconName))\n",
    "        self.setWindowTitle(self.title)\n",
    "        self.setGeometry(self.left, self.top, \n",
    "                         self.width, self.height)        \n",
    "        \n",
    "        self.radioButton()\n",
    "        \n",
    "        vbox = QVBoxLayout()\n",
    "        vbox.addWidget(self.groupBox)\n",
    "        \n",
    "        self.label = QLabel()\n",
    "        self.label.setFont(QtGui.QFont(\"Sanserif\", 20))\n",
    "        vbox.addWidget(self.label)\n",
    "        \n",
    "        self.setLayout(vbox)\n",
    "        \n",
    "        self.show()       \n",
    "        \n",
    "    def radioButton(self):\n",
    "        self.groupBox = QGroupBox(\"What is your favorite programming language?\")\n",
    "        self.groupBox.setFont(QtGui.QFont(\"Sanserif\", 15))\n",
    "        \n",
    "        hboxLayout = QHBoxLayout()\n",
    "        buttons = []\n",
    "        for name in [\"python\", \"cpp\", \"julia\"]:\n",
    "            radiobtn = QRadioButton(name)\n",
    "            radiobtn.setChecked(False)\n",
    "            radiobtn.setIcon(QtGui.QIcon(name+\".png\"))\n",
    "            radiobtn.setIconSize(QtCore.QSize(100,100))\n",
    "            radiobtn.setFont(QtGui.QFont(\"Serif\", 15))\n",
    "            radiobtn.toggled.connect(self.OnRadioBtn)\n",
    "            buttons.append(radiobtn)\n",
    "        \n",
    "        [hboxLayout.addWidget(button) for button in buttons]\n",
    "\n",
    "        self.groupBox.setLayout(hboxLayout)\n",
    "        \n",
    "    def OnRadioBtn(self):\n",
    "        radiobtn = self.sender()\n",
    "        \n",
    "        if radiobtn.isChecked():\n",
    "            self.label.setText(\"You Have selected \"+radiobtn.text())\n",
    "        \n",
    "if __name__ == '__main__':\n",
    "    if not QApplication.instance():\n",
    "        app = QApplication(sys.argv)\n",
    "    else:\n",
    "        app = QApplication.instance() \n",
    "    main = Window()\n",
    "    main.show()\n",
    "    sys.exit(app.exec())"
   ]
  },
  {
   "cell_type": "code",
   "execution_count": null,
   "metadata": {},
   "outputs": [],
   "source": []
  }
 ],
 "metadata": {
  "kernelspec": {
   "display_name": "Python 3",
   "language": "python",
   "name": "python3"
  },
  "language_info": {
   "codemirror_mode": {
    "name": "ipython",
    "version": 3
   },
   "file_extension": ".py",
   "mimetype": "text/x-python",
   "name": "python",
   "nbconvert_exporter": "python",
   "pygments_lexer": "ipython3",
   "version": "3.7.3"
  }
 },
 "nbformat": 4,
 "nbformat_minor": 2
}
