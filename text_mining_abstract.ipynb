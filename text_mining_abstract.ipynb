{
 "cells": [
  {
   "cell_type": "markdown",
   "metadata": {},
   "source": [
    "# Extracting keywords from papers\n",
    "\n",
    "\n",
    "Journal-provided Keywords are too broad to be useful.  \n",
    "I will extract keywords from the abstract carried along with a bibtex entry.\n",
    "A few options exist for NLP(Natural Language Processing.) In this notebook, I will use a python module called nltk (Natual Language Toolkit.)  \n",
    "Note that different functionalities of NLTK depend on different DBs.\n",
    "\n",
    "\n",
    "A general tutorial on NLTK (https://www.guru99.com/nltk-tutorial.html)  \n",
    "NLTK syntax processing https://krakensystems.co/blog/2018/nlp-syntax-processing  \n",
    "A working example of keyword extraction using different tool sets \n",
    "https://towardsdatascience.com/textrank-for-keyword-extraction-by-python-c0bae21bcec0\n",
    "\n",
    "See also great keyword extraction packages such as  \n",
    "rake-nltk, RAKE (Rapid Automatic Keyword Extraction algorithm) or  \n",
    "KEA (Keyphrase extraction algorithm)"
   ]
  },
  {
   "cell_type": "code",
   "execution_count": 1,
   "metadata": {},
   "outputs": [],
   "source": [
    "import bibtexparser\n",
    "\n",
    "# Abstracts in plain text, or unstrctured text form.\n",
    "with open(\"Cluster_env_papers.bib\", \"r\") as f:\n",
    "    bib_db = bibtexparser.load(f)"
   ]
  },
  {
   "cell_type": "code",
   "execution_count": 2,
   "metadata": {},
   "outputs": [],
   "source": [
    "import nltk\n",
    "#nltk.download('punkt')\n",
    "#nltk.download('averaged_perceptron_tagger')\n",
    "#nltk.download('wordnet')\n",
    "#nltk.download('stopwords')"
   ]
  },
  {
   "cell_type": "code",
   "execution_count": null,
   "metadata": {},
   "outputs": [],
   "source": []
  },
  {
   "cell_type": "code",
   "execution_count": null,
   "metadata": {},
   "outputs": [],
   "source": []
  },
  {
   "cell_type": "markdown",
   "metadata": {},
   "source": [
    "## Basic concepts\n",
    "#### tokenize sentences "
   ]
  },
  {
   "cell_type": "code",
   "execution_count": 4,
   "metadata": {},
   "outputs": [],
   "source": [
    "entry = bib_db.entries[2]"
   ]
  },
  {
   "cell_type": "code",
   "execution_count": 5,
   "metadata": {},
   "outputs": [],
   "source": [
    "tokens = nltk.word_tokenize(entry['abstract'])"
   ]
  },
  {
   "cell_type": "markdown",
   "metadata": {},
   "source": [
    "#### identify types of words (POS, part of speech)"
   ]
  },
  {
   "cell_type": "code",
   "execution_count": 6,
   "metadata": {},
   "outputs": [
    {
     "data": {
      "text/plain": [
       "[('We', 'PRP'),\n",
       " ('examine', 'VBP'),\n",
       " ('subhaloes', 'NNS'),\n",
       " ('and', 'CC'),\n",
       " ('galaxies', 'NNS'),\n",
       " ('residing', 'VBG'),\n",
       " ('in', 'IN'),\n",
       " ('a', 'DT'),\n",
       " ('simulated', 'JJ'),\n",
       " ('LCDM', 'NNP'),\n",
       " ('galaxy', 'NN'),\n",
       " ('cluster', 'NN'),\n",
       " ('(', '('),\n",
       " ('{', '('),\n",
       " ('\\\\', 'VB'),\n",
       " ('$', '$'),\n",
       " ('}', ')'),\n",
       " ('M', 'NNP'),\n",
       " ('{', '('),\n",
       " ('\\\\^', 'VB'),\n",
       " ('{', '('),\n",
       " ('}', ')'),\n",
       " ('}', ')'),\n",
       " ('{', '('),\n",
       " ('\\\\', 'JJ'),\n",
       " ('{', '('),\n",
       " ('}', ')'),\n",
       " ('\\\\backslashrm', 'NNP'),\n",
       " ('crit', 'NN'),\n",
       " ('{', '('),\n",
       " ('\\\\', 'JJ'),\n",
       " ('}', ')'),\n",
       " ('}', ')'),\n",
       " ('{', '('),\n",
       " ('\\\\_', 'JJ'),\n",
       " ('}', ')'),\n",
       " ('{', '('),\n",
       " ('\\\\', 'JJ'),\n",
       " ('{', '('),\n",
       " ('}', ')'),\n",
       " ('200', 'CD'),\n",
       " ('{', '('),\n",
       " ('\\\\', 'NN'),\n",
       " ('}', ')'),\n",
       " ('}', ')'),\n",
       " ('=1.1\\\\backslashtimes10', 'NNP'),\n",
       " ('{', '('),\n",
       " ('\\\\^', 'VB'),\n",
       " ('{', '('),\n",
       " ('}', ')'),\n",
       " ('}', ')'),\n",
       " ('{', '('),\n",
       " ('\\\\', 'JJ'),\n",
       " ('{', '('),\n",
       " ('}', ')'),\n",
       " ('15', 'CD'),\n",
       " ('{', '('),\n",
       " ('\\\\', 'NN'),\n",
       " ('}', ')'),\n",
       " ('}', ')'),\n",
       " ('M', 'NNP'),\n",
       " ('{', '('),\n",
       " ('\\\\_', 'VB'),\n",
       " ('}', ')'),\n",
       " ('\\\\backslashodot/h', 'NNP'),\n",
       " ('{', '('),\n",
       " ('\\\\', 'VB'),\n",
       " ('$', '$'),\n",
       " ('}', ')'),\n",
       " (')', ')'),\n",
       " ('produced', 'VBN'),\n",
       " ('by', 'IN'),\n",
       " ('hydrodynamical', 'JJ'),\n",
       " ('codes', 'NNS'),\n",
       " ('ranging', 'VBG'),\n",
       " ('from', 'IN'),\n",
       " ('classic', 'JJ'),\n",
       " ('Smooth', 'NNP'),\n",
       " ('Particle', 'NNP'),\n",
       " ('Hydrodynamics', 'NNP'),\n",
       " ('(', '('),\n",
       " ('SPH', 'NNP'),\n",
       " (')', ')'),\n",
       " (',', ','),\n",
       " ('newer', 'JJR'),\n",
       " ('SPH', 'NNP'),\n",
       " ('codes', 'NNS'),\n",
       " (',', ','),\n",
       " ('adaptive', 'JJ'),\n",
       " ('and', 'CC'),\n",
       " ('moving', 'VBG'),\n",
       " ('mesh', 'JJ'),\n",
       " ('codes', 'NNS'),\n",
       " ('.', '.'),\n",
       " ('These', 'DT'),\n",
       " ('codes', 'NNS'),\n",
       " ('use', 'VBP'),\n",
       " ('subgrid', 'JJ'),\n",
       " ('models', 'NNS'),\n",
       " ('to', 'TO'),\n",
       " ('capture', 'VB'),\n",
       " ('galaxy', 'JJ'),\n",
       " ('formation', 'NN'),\n",
       " ('physics', 'NNS'),\n",
       " ('.', '.'),\n",
       " ('We', 'PRP'),\n",
       " ('compare', 'VBP'),\n",
       " ('how', 'WRB'),\n",
       " ('well', 'RB'),\n",
       " ('these', 'DT'),\n",
       " ('codes', 'NNS'),\n",
       " ('reproduce', 'VBP'),\n",
       " ('the', 'DT'),\n",
       " ('same', 'JJ'),\n",
       " ('subhaloes/galaxies', 'NNS'),\n",
       " ('in', 'IN'),\n",
       " ('gravity', 'NN'),\n",
       " ('only', 'RB'),\n",
       " (',', ','),\n",
       " ('non-radiative', 'JJ'),\n",
       " ('hydrodynamics', 'NNS'),\n",
       " ('and', 'CC'),\n",
       " ('full', 'JJ'),\n",
       " ('feedback', 'NN'),\n",
       " ('physics', 'NNS'),\n",
       " ('runs', 'NNS'),\n",
       " ('by', 'IN'),\n",
       " ('looking', 'VBG'),\n",
       " ('at', 'IN'),\n",
       " ('the', 'DT'),\n",
       " ('overall', 'JJ'),\n",
       " ('subhalo/galaxy', 'NN'),\n",
       " ('distribution', 'NN'),\n",
       " ('and', 'CC'),\n",
       " ('on', 'IN'),\n",
       " ('an', 'DT'),\n",
       " ('individual', 'JJ'),\n",
       " ('objects', 'NNS'),\n",
       " ('basis', 'NN'),\n",
       " ('.', '.'),\n",
       " ('We', 'PRP'),\n",
       " ('find', 'VBP'),\n",
       " ('the', 'DT'),\n",
       " ('subhalo', 'JJ'),\n",
       " ('population', 'NN'),\n",
       " ('is', 'VBZ'),\n",
       " ('reproduced', 'VBN'),\n",
       " ('to', 'TO'),\n",
       " ('within', 'IN'),\n",
       " ('{', '('),\n",
       " ('\\\\', 'JJ'),\n",
       " ('$', '$'),\n",
       " ('}', ')'),\n",
       " ('\\\\backslashlesssim10\\\\backslash', 'NNP'),\n",
       " ('{', '('),\n",
       " ('\\\\', 'CD'),\n",
       " ('%', 'NN'),\n",
       " ('}', ')'),\n",
       " ('{', '('),\n",
       " ('\\\\', 'JJ'),\n",
       " ('$', '$'),\n",
       " ('}', ')'),\n",
       " ('for', 'IN'),\n",
       " ('both', 'DT'),\n",
       " ('dark', 'JJ'),\n",
       " ('matter', 'NN'),\n",
       " ('only', 'RB'),\n",
       " ('and', 'CC'),\n",
       " ('non-radiative', 'JJ'),\n",
       " ('runs', 'NNS'),\n",
       " (',', ','),\n",
       " ('with', 'IN'),\n",
       " ('individual', 'JJ'),\n",
       " ('objects', 'NNS'),\n",
       " ('showing', 'VBG'),\n",
       " ('code-to-code', 'JJ'),\n",
       " ('scatter', 'NN'),\n",
       " ('of', 'IN'),\n",
       " ('{', '('),\n",
       " ('\\\\', 'JJ'),\n",
       " ('$', '$'),\n",
       " ('}', ')'),\n",
       " ('\\\\backslashlesssim0.1', 'NNP'),\n",
       " ('{', '('),\n",
       " ('\\\\', 'VB'),\n",
       " ('$', '$'),\n",
       " ('}', ')'),\n",
       " ('dex', 'NN'),\n",
       " (',', ','),\n",
       " ('although', 'IN'),\n",
       " ('the', 'DT'),\n",
       " ('gas', 'NN'),\n",
       " ('in', 'IN'),\n",
       " ('non-radiative', 'JJ'),\n",
       " ('simulations', 'NNS'),\n",
       " ('shows', 'VBZ'),\n",
       " ('significant', 'JJ'),\n",
       " ('scatter', 'NN'),\n",
       " ('.', '.'),\n",
       " ('Including', 'VBG'),\n",
       " ('feedback', 'NN'),\n",
       " ('physics', 'NNS'),\n",
       " ('significantly', 'RB'),\n",
       " ('increases', 'VBZ'),\n",
       " ('the', 'DT'),\n",
       " ('diversity', 'NN'),\n",
       " ('.', '.'),\n",
       " ('Subhalo', 'NNP'),\n",
       " ('mass', 'NN'),\n",
       " ('and', 'CC'),\n",
       " ('{', '('),\n",
       " ('\\\\', 'VB'),\n",
       " ('$', '$'),\n",
       " ('}', ')'),\n",
       " ('V', 'NNP'),\n",
       " ('{', '('),\n",
       " ('\\\\_', 'VB'),\n",
       " ('}', ')'),\n",
       " ('{', '('),\n",
       " ('\\\\', 'JJ'),\n",
       " ('{', '('),\n",
       " ('}', ')'),\n",
       " ('max', 'FW'),\n",
       " ('{', '('),\n",
       " ('\\\\', 'VB'),\n",
       " ('}', ')'),\n",
       " ('}', ')'),\n",
       " ('{', '('),\n",
       " ('\\\\', 'JJ'),\n",
       " ('$', '$'),\n",
       " ('}', ')'),\n",
       " ('distributions', 'NNS'),\n",
       " ('vary', 'VBP'),\n",
       " ('by', 'IN'),\n",
       " ('{', '('),\n",
       " ('\\\\', 'JJ'),\n",
       " ('$', '$'),\n",
       " ('}', ')'),\n",
       " ('\\\\backslashapprox20\\\\backslash', 'NNP'),\n",
       " ('{', '('),\n",
       " ('\\\\', 'CD'),\n",
       " ('%', 'NN'),\n",
       " ('}', ')'),\n",
       " ('{', '('),\n",
       " ('\\\\', 'JJ'),\n",
       " ('$', '$'),\n",
       " ('}', ')'),\n",
       " ('.', '.'),\n",
       " ('The', 'DT'),\n",
       " ('galaxy', 'NN'),\n",
       " ('populations', 'NNS'),\n",
       " ('also', 'RB'),\n",
       " ('show', 'VBP'),\n",
       " ('striking', 'VBG'),\n",
       " ('code-to-code', 'JJ'),\n",
       " ('variations', 'NNS'),\n",
       " ('.', '.'),\n",
       " ('Although', 'IN'),\n",
       " ('the', 'DT'),\n",
       " ('Tully-Fisher', 'NNP'),\n",
       " ('relation', 'NN'),\n",
       " ('is', 'VBZ'),\n",
       " ('similar', 'JJ'),\n",
       " ('in', 'IN'),\n",
       " ('almost', 'RB'),\n",
       " ('all', 'DT'),\n",
       " ('codes', 'NNS'),\n",
       " (',', ','),\n",
       " ('the', 'DT'),\n",
       " ('number', 'NN'),\n",
       " ('of', 'IN'),\n",
       " ('galaxies', 'NNS'),\n",
       " ('with', 'IN'),\n",
       " ('{', '('),\n",
       " ('\\\\', 'JJ'),\n",
       " ('$', '$'),\n",
       " ('}', ')'),\n",
       " ('10', 'CD'),\n",
       " ('{', '('),\n",
       " ('\\\\^', 'VB'),\n",
       " ('{', '('),\n",
       " ('}', ')'),\n",
       " ('}', ')'),\n",
       " ('{', '('),\n",
       " ('\\\\', 'JJ'),\n",
       " ('{', '('),\n",
       " ('}', ')'),\n",
       " ('9', 'CD'),\n",
       " ('{', '('),\n",
       " ('\\\\', 'NN'),\n",
       " ('}', ')'),\n",
       " ('}', ')'),\n",
       " ('M', 'NNP'),\n",
       " ('{', '('),\n",
       " ('\\\\_', 'VB'),\n",
       " ('}', ')'),\n",
       " ('\\\\backslashodot/h\\\\backslashlesssim', 'NNP'),\n",
       " ('M', 'NNP'),\n",
       " ('{', '('),\n",
       " ('\\\\_', 'VB'),\n",
       " ('}', ')'),\n",
       " ('*\\\\backslashlesssim', '$'),\n",
       " ('10', 'CD'),\n",
       " ('{', '('),\n",
       " ('\\\\^', 'VB'),\n",
       " ('{', '('),\n",
       " ('}', ')'),\n",
       " ('}', ')'),\n",
       " ('{', '('),\n",
       " ('\\\\', 'JJ'),\n",
       " ('{', '('),\n",
       " ('}', ')'),\n",
       " ('12', 'CD'),\n",
       " ('{', '('),\n",
       " ('\\\\', 'NN'),\n",
       " ('}', ')'),\n",
       " ('}', ')'),\n",
       " ('M', 'NNP'),\n",
       " ('{', '('),\n",
       " ('\\\\_', 'VB'),\n",
       " ('}', ')'),\n",
       " ('\\\\backslashodot/h', 'NNP'),\n",
       " ('{', '('),\n",
       " ('\\\\', 'VB'),\n",
       " ('$', '$'),\n",
       " ('}', ')'),\n",
       " ('can', 'MD'),\n",
       " ('differ', 'VB'),\n",
       " ('by', 'IN'),\n",
       " ('a', 'DT'),\n",
       " ('factor', 'NN'),\n",
       " ('of', 'IN'),\n",
       " ('4', 'CD'),\n",
       " ('.', '.'),\n",
       " ('Individual', 'JJ'),\n",
       " ('galaxies', 'NNS'),\n",
       " ('show', 'VBP'),\n",
       " ('code-to-code', 'JJ'),\n",
       " ('scatter', 'NN'),\n",
       " ('of', 'IN'),\n",
       " ('{', '('),\n",
       " ('\\\\', 'JJ'),\n",
       " ('$', '$'),\n",
       " ('}', ')'),\n",
       " ('\\\\backslashsim0.5', 'NNP'),\n",
       " ('{', '('),\n",
       " ('\\\\', 'VB'),\n",
       " ('$', '$'),\n",
       " ('}', ')'),\n",
       " ('dex', 'NN'),\n",
       " ('in', 'IN'),\n",
       " ('stellar', 'JJ'),\n",
       " ('mass', 'NN'),\n",
       " ('.', '.'),\n",
       " ('Moreover', 'RB'),\n",
       " (',', ','),\n",
       " ('strong', 'JJ'),\n",
       " ('systematic', 'JJ'),\n",
       " ('differences', 'NNS'),\n",
       " ('exist', 'VBP'),\n",
       " (',', ','),\n",
       " ('with', 'IN'),\n",
       " ('some', 'DT'),\n",
       " ('codes', 'NNS'),\n",
       " ('producing', 'VBG'),\n",
       " ('galaxies', 'NNS'),\n",
       " ('{', '('),\n",
       " ('\\\\', 'VB'),\n",
       " ('$', '$'),\n",
       " ('}', ')'),\n",
       " ('70\\\\backslash', 'CD'),\n",
       " ('{', '('),\n",
       " ('\\\\', 'CD'),\n",
       " ('%', 'NN'),\n",
       " ('}', ')'),\n",
       " ('{', '('),\n",
       " ('\\\\', 'JJ'),\n",
       " ('$', '$'),\n",
       " ('}', ')'),\n",
       " ('smaller', 'JJR'),\n",
       " ('than', 'IN'),\n",
       " ('others', 'NNS'),\n",
       " ('.', '.'),\n",
       " ('The', 'DT'),\n",
       " ('diversity', 'NN'),\n",
       " ('partially', 'RB'),\n",
       " ('arises', 'VBZ'),\n",
       " ('from', 'IN'),\n",
       " ('the', 'DT'),\n",
       " ('inclusion/absence', 'NN'),\n",
       " ('of', 'IN'),\n",
       " ('AGN', 'NNP'),\n",
       " ('feedback', 'NN'),\n",
       " ('.', '.'),\n",
       " ('Our', 'PRP$'),\n",
       " ('results', 'NNS'),\n",
       " ('combined', 'VBN'),\n",
       " ('with', 'IN'),\n",
       " ('our', 'PRP$'),\n",
       " ('companion', 'NN'),\n",
       " ('papers', 'NNS'),\n",
       " ('demonstrate', 'VBP'),\n",
       " ('that', 'IN'),\n",
       " ('subgrid', 'JJ'),\n",
       " ('physics', 'NNS'),\n",
       " ('is', 'VBZ'),\n",
       " ('not', 'RB'),\n",
       " ('just', 'RB'),\n",
       " ('subject', 'JJ'),\n",
       " ('to', 'TO'),\n",
       " ('fine-tuning', 'JJ'),\n",
       " (',', ','),\n",
       " ('but', 'CC'),\n",
       " ('the', 'DT'),\n",
       " ('complexity', 'NN'),\n",
       " ('of', 'IN'),\n",
       " ('building', 'NN'),\n",
       " ('galaxies', 'NNS'),\n",
       " ('in', 'IN'),\n",
       " ('all', 'DT'),\n",
       " ('environments', 'NNS'),\n",
       " ('remains', 'VBZ'),\n",
       " ('a', 'DT'),\n",
       " ('challenge', 'NN'),\n",
       " ('.', '.'),\n",
       " ('We', 'PRP'),\n",
       " ('argue', 'VBP'),\n",
       " ('even', 'RB'),\n",
       " ('basic', 'JJ'),\n",
       " ('galaxy', 'NN'),\n",
       " ('properties', 'NNS'),\n",
       " (',', ','),\n",
       " ('such', 'JJ'),\n",
       " ('as', 'IN'),\n",
       " ('the', 'DT'),\n",
       " ('stellar', 'JJ'),\n",
       " ('mass', 'NN'),\n",
       " ('to', 'TO'),\n",
       " ('halo', 'VB'),\n",
       " ('mass', 'NN'),\n",
       " (',', ','),\n",
       " ('should', 'MD'),\n",
       " ('be', 'VB'),\n",
       " ('treated', 'VBN'),\n",
       " ('with', 'IN'),\n",
       " ('errors', 'NNS'),\n",
       " ('bars', 'NNS'),\n",
       " ('of', 'IN'),\n",
       " ('{', '('),\n",
       " ('\\\\', 'JJ'),\n",
       " ('$', '$'),\n",
       " ('}', ')'),\n",
       " ('\\\\backslashsim0.2-0.4', 'NNP'),\n",
       " ('{', '('),\n",
       " ('\\\\', 'VB'),\n",
       " ('$', '$'),\n",
       " ('}', ')'),\n",
       " ('dex', 'NN'),\n",
       " ('.', '.')]"
      ]
     },
     "execution_count": 6,
     "metadata": {},
     "output_type": "execute_result"
    }
   ],
   "source": [
    "nltk.pos_tag(tokens)"
   ]
  },
  {
   "cell_type": "markdown",
   "metadata": {},
   "source": [
    "#### stem words \n",
    "convert to its *root* form. (solve, solving -> solv)  \n",
    "Already multiple altorightms are available for stemming."
   ]
  },
  {
   "cell_type": "code",
   "execution_count": 120,
   "metadata": {},
   "outputs": [],
   "source": [
    "from nltk.stem.porter import PorterStemmer\n",
    "from nltk.stem.lancaster import LancasterStemmer\n",
    "from nltk.stem import SnowballStemmer\n",
    "\n",
    "porter = PorterStemmer()\n",
    "lancaster = LancasterStemmer()\n",
    "snowball = SnowballStemmer('english')"
   ]
  },
  {
   "cell_type": "code",
   "execution_count": 31,
   "metadata": {},
   "outputs": [
    {
     "name": "stdout",
     "output_type": "stream",
     "text": [
      "treat\n",
      "tre\n",
      "treat\n"
     ]
    }
   ],
   "source": [
    "print(porter.stem(\"treated\"))\n",
    "print(lancaster.stem(\"treated\"))\n",
    "print(snowball.stem(\"treated\"))"
   ]
  },
  {
   "cell_type": "markdown",
   "metadata": {},
   "source": [
    "#### Lemmatization \n",
    "convert to the *dictionary* form of a word."
   ]
  },
  {
   "cell_type": "code",
   "execution_count": 8,
   "metadata": {},
   "outputs": [],
   "source": [
    "from nltk.stem import WordNetLemmatizer\n",
    "wnl = WordNetLemmatizer()"
   ]
  },
  {
   "cell_type": "code",
   "execution_count": 39,
   "metadata": {},
   "outputs": [
    {
     "data": {
      "text/plain": [
       "'galaxy'"
      ]
     },
     "execution_count": 39,
     "metadata": {},
     "output_type": "execute_result"
    }
   ],
   "source": [
    "wnl.lemmatize(\"galaxies\")"
   ]
  },
  {
   "cell_type": "code",
   "execution_count": 35,
   "metadata": {},
   "outputs": [
    {
     "data": {
      "text/plain": [
       "'treated'"
      ]
     },
     "execution_count": 35,
     "metadata": {},
     "output_type": "execute_result"
    }
   ],
   "source": [
    "wnl.lemmatize(\"treated\")"
   ]
  },
  {
   "cell_type": "code",
   "execution_count": 36,
   "metadata": {},
   "outputs": [
    {
     "name": "stdout",
     "output_type": "stream",
     "text": [
      "subhalo\n",
      "subhaloes\n"
     ]
    }
   ],
   "source": [
    "print(porter.stem(\"subhaloes\"))\n",
    "print(wnl.lemmatize(\"subhaloes\"))"
   ]
  },
  {
   "cell_type": "code",
   "execution_count": 37,
   "metadata": {},
   "outputs": [
    {
     "name": "stdout",
     "output_type": "stream",
     "text": [
      "accret\n",
      "accreted\n"
     ]
    }
   ],
   "source": [
    "print(porter.stem(\"accreted\"))\n",
    "print(wnl.lemmatize(\"accreted\"))"
   ]
  },
  {
   "cell_type": "code",
   "execution_count": 38,
   "metadata": {},
   "outputs": [
    {
     "name": "stdout",
     "output_type": "stream",
     "text": [
      "infal\n",
      "infalling\n"
     ]
    }
   ],
   "source": [
    "print(porter.stem(\"infalling\"))\n",
    "print(wnl.lemmatize(\"infalling\"))"
   ]
  },
  {
   "cell_type": "markdown",
   "metadata": {},
   "source": [
    "As demonstrated, lemmatization depends on dictionary vocavulary. Domain-specific words such as *infall* or *accrete* does not get correct vocab matching. Hmmm.. "
   ]
  },
  {
   "cell_type": "markdown",
   "metadata": {},
   "source": [
    "### removing stopwords (prepositions, pronouns, conjunctions, ...)"
   ]
  },
  {
   "cell_type": "code",
   "execution_count": 16,
   "metadata": {},
   "outputs": [],
   "source": [
    "from nltk.corpus import stopwords \n",
    "from nltk.tokenize import RegexpTokenizer\n",
    "import re\n",
    "## corpus is a term used in linguistics meaning a large set of text body.\n",
    "stop_words = set(stopwords.words(\"english\"))"
   ]
  },
  {
   "cell_type": "code",
   "execution_count": 114,
   "metadata": {},
   "outputs": [],
   "source": [
    "# add some more custom stopwords if you want\n",
    "stop_words = stop_words.union([\"study\", \"paper\", \"M\", \"h\", \"we\"])"
   ]
  },
  {
   "cell_type": "code",
   "execution_count": 138,
   "metadata": {},
   "outputs": [],
   "source": [
    "corpus = []\n",
    "\n",
    "for entry in bib_db.entries:\n",
    "    try:\n",
    "        text = re.sub('[^a-zA-Z]', ' ', entry[\"abstract\"]) #\n",
    "        text = text.lower()\n",
    "        text = re.sub(\"(\\\\d|\\\\W)+\",\" \",text) # Remove special characters\n",
    "        text = re.sub(\"backslash\\w*\", \" \", text) # Remove Latex equation commands\n",
    "        text = re.sub(\"\\s[a-zA-Z]{1,2}\\s\", ' ', text) # remove one or two-letter words (units: M, K, s, pc, km, ...)\n",
    "\n",
    "        text = [wnl.lemmatize(word) for word in text.split() if not word in stop_words]\n",
    "        text = \" \".join(text)\n",
    "        corpus.append(text)\n",
    "    except:\n",
    "        pass"
   ]
  },
  {
   "cell_type": "code",
   "execution_count": 139,
   "metadata": {},
   "outputs": [
    {
     "name": "stdout",
     "output_type": "stream",
     "text": [
      "<wordcloud.wordcloud.WordCloud object at 0x7fb5b1fcd2e8>\n"
     ]
    },
    {
     "data": {
      "image/png": "[encoded data removed]",
      "text/plain": [
       "<Figure size 432x288 with 1 Axes>"
      ]
     },
     "metadata": {
      "needs_background": "light"
     },
     "output_type": "display_data"
    }
   ],
   "source": [
    "# visualize words\n",
    "from PIL import Image\n",
    "from wordcloud import WordCloud, STOPWORDS, ImageColorGenerator\n",
    "import matplotlib.pyplot as plt\n",
    "#% matplotlib inline\n",
    "wordcloud = WordCloud(background_color='white',\n",
    "                      stopwords=stop_words,\n",
    "                      max_words=100,\n",
    "                      max_font_size=50, \n",
    "                      random_state=42\n",
    "                     ).generate(str(corpus))\n",
    "print(wordcloud)\n",
    "fig = plt.figure(1)\n",
    "plt.imshow(wordcloud)\n",
    "plt.axis('off')\n",
    "plt.show()\n",
    "fig.savefig(\"word1.png\", dpi=900)"
   ]
  },
  {
   "cell_type": "markdown",
   "metadata": {},
   "source": [
    "### Now we also consider bi and tri-grams."
   ]
  },
  {
   "cell_type": "code",
   "execution_count": 144,
   "metadata": {},
   "outputs": [],
   "source": [
    "from sklearn.feature_extraction.text import CountVectorizer\n",
    "\n",
    "cv=CountVectorizer(max_df=0.8,\n",
    "                   stop_words=stop_words,\n",
    "                   max_features=3000,\n",
    "                   ngram_range=(1,3))\n",
    "\"\"\"\n",
    "max_df = 0.8  : ignore too general words\n",
    "ngram_range : search for features of single, two, and three words.\n",
    "\"\"\"\n",
    "X=cv.fit_transform(corpus)"
   ]
  },
  {
   "cell_type": "code",
   "execution_count": 145,
   "metadata": {},
   "outputs": [
    {
     "data": {
      "text/plain": [
       "['image',\n",
       " 'available',\n",
       " 'http',\n",
       " 'ab',\n",
       " 'unprecedented',\n",
       " 'area',\n",
       " 'surveyed',\n",
       " 'subaru',\n",
       " 'strategic',\n",
       " 'program']"
      ]
     },
     "execution_count": 145,
     "metadata": {},
     "output_type": "execute_result"
    }
   ],
   "source": [
    "list(cv.vocabulary_.keys())[:10]"
   ]
  },
  {
   "cell_type": "code",
   "execution_count": 148,
   "metadata": {},
   "outputs": [],
   "source": [
    "# Most frequent words\n",
    "def get_top_n_words(corpus, n=None, ngram=1):\n",
    "    vec = CountVectorizer(ngram_range=(ngram, ngram),\n",
    "                          max_features = 2000).fit(corpus)\n",
    "    bag_of_words = vec.transform(corpus) # bag meaning not caring their order.\n",
    "    sum_words = bag_of_words.sum(axis=0) # why?\n",
    "    words_freq = [(word, sum_words[0, idx]) for word, idx in vec.vocabulary_.items()]\n",
    "    words_freq = sorted(words_freq, key = lambda x : x[1], reverse=True)\n",
    "    return words_freq[:n]\n"
   ]
  },
  {
   "cell_type": "code",
   "execution_count": 153,
   "metadata": {},
   "outputs": [
    {
     "data": {
      "text/plain": [
       "[('galaxy cluster', 16),\n",
       " ('stellar mass', 15),\n",
       " ('star formation', 11),\n",
       " ('cluster galaxy', 9),\n",
       " ('non radiative', 8),\n",
       " ('dark matter', 7),\n",
       " ('halo mass', 7),\n",
       " ('star forming', 7),\n",
       " ('forming galaxy', 7),\n",
       " ('early type', 6),\n",
       " ('agn feedback', 5),\n",
       " ('large scale', 5),\n",
       " ('group cluster', 5),\n",
       " ('environmental process', 5),\n",
       " ('ram pressure', 5),\n",
       " ('particle hydrodynamics', 4),\n",
       " ('code code', 4),\n",
       " ('dynamical mass', 4),\n",
       " ('galaxy galaxy', 4),\n",
       " ('massive galaxy', 4)]"
      ]
     },
     "execution_count": 153,
     "metadata": {},
     "output_type": "execute_result"
    }
   ],
   "source": [
    "get_top_n_words(corpus, n=20, ngram=2)"
   ]
  },
  {
   "cell_type": "markdown",
   "metadata": {},
   "source": [
    "# frequent but general Vs. frequent and topic-specific\n",
    "\n",
    "TF-IDF  \n",
    "https://en.wikipedia.org/wiki/Tf%E2%80%93idf\n",
    "\n",
    "\n",
    "from sklearn.feature_extraction.text import TfidfTransformer "
   ]
  },
  {
   "cell_type": "code",
   "execution_count": null,
   "metadata": {},
   "outputs": [],
   "source": []
  }
 ],
 "metadata": {
  "kernelspec": {
   "display_name": "Python 3",
   "language": "python",
   "name": "python3"
  },
  "language_info": {
   "codemirror_mode": {
    "name": "ipython",
    "version": 3
   },
   "file_extension": ".py",
   "mimetype": "text/x-python",
   "name": "python",
   "nbconvert_exporter": "python",
   "pygments_lexer": "ipython3",
   "version": "3.7.3"
  }
 },
 "nbformat": 4,
 "nbformat_minor": 2
}
